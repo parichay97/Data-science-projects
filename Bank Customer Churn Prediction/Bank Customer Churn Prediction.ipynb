{
 "cells": [
  {
   "cell_type": "markdown",
   "id": "b2257684",
   "metadata": {},
   "source": [
    "## Importing required libraries"
   ]
  },
  {
   "cell_type": "code",
   "execution_count": 1,
   "id": "43fbeb2f",
   "metadata": {
    "_cell_guid": "b1076dfc-b9ad-4769-8c92-a6c4dae69d19",
    "_uuid": "8f2839f25d086af736a60e9eeb907d3b93b6e0e5",
    "execution": {
     "iopub.execute_input": "2022-05-09T19:48:01.663984Z",
     "iopub.status.busy": "2022-05-09T19:48:01.662882Z",
     "iopub.status.idle": "2022-05-09T19:48:01.676985Z",
     "shell.execute_reply": "2022-05-09T19:48:01.677545Z",
     "shell.execute_reply.started": "2022-05-09T17:23:10.421582Z"
    },
    "papermill": {
     "duration": 0.060995,
     "end_time": "2022-05-09T19:48:01.677810",
     "exception": false,
     "start_time": "2022-05-09T19:48:01.616815",
     "status": "completed"
    },
    "tags": []
   },
   "outputs": [],
   "source": [
    "import numpy as np \n",
    "import pandas as pd\n",
    "from skimpy import clean_columns\n",
    "\n",
    "import matplotlib.ticker as mtick\n",
    "import matplotlib.pyplot as plt\n",
    "import seaborn as sns\n",
    "\n",
    "from sklearn.preprocessing import MinMaxScaler\n",
    "from sklearn.ensemble import RandomForestClassifier\n",
    "from sklearn.model_selection import train_test_split\n",
    "from sklearn.metrics import classification_report, confusion_matrix, ConfusionMatrixDisplay\n",
    "\n",
    "import warnings\n",
    "warnings.simplefilter('ignore')"
   ]
  },
  {
   "cell_type": "code",
   "execution_count": 2,
   "id": "1b056dc3",
   "metadata": {},
   "outputs": [],
   "source": [
    "# Setting matplotlib parameters for plotting\n",
    "\n",
    "SMALL_SIZE = 12\n",
    "MEDIUM_SIZE = 14\n",
    "BIG_SIZE = 16\n",
    "LARGE_SIZE = 20\n",
    "\n",
    "params = {\n",
    "    'figure.figsize': (16, 8),\n",
    "    'font.size': SMALL_SIZE,\n",
    "    'xtick.labelsize': MEDIUM_SIZE,\n",
    "    'ytick.labelsize': MEDIUM_SIZE,\n",
    "    'legend.fontsize': BIG_SIZE,\n",
    "    'figure.titlesize': LARGE_SIZE,\n",
    "    'axes.titlesize': MEDIUM_SIZE,\n",
    "    'axes.labelsize': BIG_SIZE\n",
    "}\n",
    "\n",
    "plt.rcParams.update(params)"
   ]
  },
  {
   "cell_type": "markdown",
   "id": "18d5da5a",
   "metadata": {},
   "source": [
    "## Loading and Inspecting the data"
   ]
  },
  {
   "cell_type": "code",
   "execution_count": 3,
   "id": "fbeb710d",
   "metadata": {
    "execution": {
     "iopub.execute_input": "2022-05-09T19:48:02.912849Z",
     "iopub.status.busy": "2022-05-09T19:48:02.912152Z",
     "iopub.status.idle": "2022-05-09T19:48:02.970786Z",
     "shell.execute_reply": "2022-05-09T19:48:02.971243Z",
     "shell.execute_reply.started": "2022-05-09T17:23:29.852325Z"
    },
    "papermill": {
     "duration": 0.105478,
     "end_time": "2022-05-09T19:48:02.971456",
     "exception": false,
     "start_time": "2022-05-09T19:48:02.865978",
     "status": "completed"
    },
    "tags": []
   },
   "outputs": [
    {
     "data": {
      "text/html": [
       "<div>\n",
       "<style scoped>\n",
       "    .dataframe tbody tr th:only-of-type {\n",
       "        vertical-align: middle;\n",
       "    }\n",
       "\n",
       "    .dataframe tbody tr th {\n",
       "        vertical-align: top;\n",
       "    }\n",
       "\n",
       "    .dataframe thead th {\n",
       "        text-align: right;\n",
       "    }\n",
       "</style>\n",
       "<table border=\"1\" class=\"dataframe\">\n",
       "  <thead>\n",
       "    <tr style=\"text-align: right;\">\n",
       "      <th></th>\n",
       "      <th>RowNumber</th>\n",
       "      <th>CustomerId</th>\n",
       "      <th>Surname</th>\n",
       "      <th>CreditScore</th>\n",
       "      <th>Geography</th>\n",
       "      <th>Gender</th>\n",
       "      <th>Age</th>\n",
       "      <th>Tenure</th>\n",
       "      <th>Balance</th>\n",
       "      <th>NumOfProducts</th>\n",
       "      <th>HasCrCard</th>\n",
       "      <th>IsActiveMember</th>\n",
       "      <th>EstimatedSalary</th>\n",
       "      <th>Exited</th>\n",
       "    </tr>\n",
       "  </thead>\n",
       "  <tbody>\n",
       "    <tr>\n",
       "      <th>0</th>\n",
       "      <td>1</td>\n",
       "      <td>15634602</td>\n",
       "      <td>Hargrave</td>\n",
       "      <td>619</td>\n",
       "      <td>France</td>\n",
       "      <td>Female</td>\n",
       "      <td>42</td>\n",
       "      <td>2</td>\n",
       "      <td>0.00</td>\n",
       "      <td>1</td>\n",
       "      <td>1</td>\n",
       "      <td>1</td>\n",
       "      <td>101348.88</td>\n",
       "      <td>1</td>\n",
       "    </tr>\n",
       "    <tr>\n",
       "      <th>1</th>\n",
       "      <td>2</td>\n",
       "      <td>15647311</td>\n",
       "      <td>Hill</td>\n",
       "      <td>608</td>\n",
       "      <td>Spain</td>\n",
       "      <td>Female</td>\n",
       "      <td>41</td>\n",
       "      <td>1</td>\n",
       "      <td>83807.86</td>\n",
       "      <td>1</td>\n",
       "      <td>0</td>\n",
       "      <td>1</td>\n",
       "      <td>112542.58</td>\n",
       "      <td>0</td>\n",
       "    </tr>\n",
       "    <tr>\n",
       "      <th>2</th>\n",
       "      <td>3</td>\n",
       "      <td>15619304</td>\n",
       "      <td>Onio</td>\n",
       "      <td>502</td>\n",
       "      <td>France</td>\n",
       "      <td>Female</td>\n",
       "      <td>42</td>\n",
       "      <td>8</td>\n",
       "      <td>159660.80</td>\n",
       "      <td>3</td>\n",
       "      <td>1</td>\n",
       "      <td>0</td>\n",
       "      <td>113931.57</td>\n",
       "      <td>1</td>\n",
       "    </tr>\n",
       "    <tr>\n",
       "      <th>3</th>\n",
       "      <td>4</td>\n",
       "      <td>15701354</td>\n",
       "      <td>Boni</td>\n",
       "      <td>699</td>\n",
       "      <td>France</td>\n",
       "      <td>Female</td>\n",
       "      <td>39</td>\n",
       "      <td>1</td>\n",
       "      <td>0.00</td>\n",
       "      <td>2</td>\n",
       "      <td>0</td>\n",
       "      <td>0</td>\n",
       "      <td>93826.63</td>\n",
       "      <td>0</td>\n",
       "    </tr>\n",
       "    <tr>\n",
       "      <th>4</th>\n",
       "      <td>5</td>\n",
       "      <td>15737888</td>\n",
       "      <td>Mitchell</td>\n",
       "      <td>850</td>\n",
       "      <td>Spain</td>\n",
       "      <td>Female</td>\n",
       "      <td>43</td>\n",
       "      <td>2</td>\n",
       "      <td>125510.82</td>\n",
       "      <td>1</td>\n",
       "      <td>1</td>\n",
       "      <td>1</td>\n",
       "      <td>79084.10</td>\n",
       "      <td>0</td>\n",
       "    </tr>\n",
       "  </tbody>\n",
       "</table>\n",
       "</div>"
      ],
      "text/plain": [
       "   RowNumber  CustomerId   Surname  CreditScore Geography  Gender  Age  \\\n",
       "0          1    15634602  Hargrave          619    France  Female   42   \n",
       "1          2    15647311      Hill          608     Spain  Female   41   \n",
       "2          3    15619304      Onio          502    France  Female   42   \n",
       "3          4    15701354      Boni          699    France  Female   39   \n",
       "4          5    15737888  Mitchell          850     Spain  Female   43   \n",
       "\n",
       "   Tenure    Balance  NumOfProducts  HasCrCard  IsActiveMember  \\\n",
       "0       2       0.00              1          1               1   \n",
       "1       1   83807.86              1          0               1   \n",
       "2       8  159660.80              3          1               0   \n",
       "3       1       0.00              2          0               0   \n",
       "4       2  125510.82              1          1               1   \n",
       "\n",
       "   EstimatedSalary  Exited  \n",
       "0        101348.88       1  \n",
       "1        112542.58       0  \n",
       "2        113931.57       1  \n",
       "3         93826.63       0  \n",
       "4         79084.10       0  "
      ]
     },
     "execution_count": 3,
     "metadata": {},
     "output_type": "execute_result"
    }
   ],
   "source": [
    "df = pd.read_csv('Churn_Modelling.csv')\n",
    "df.head()"
   ]
  },
  {
   "cell_type": "code",
   "execution_count": 4,
   "id": "32c67866",
   "metadata": {
    "execution": {
     "iopub.execute_input": "2022-05-09T19:48:03.059569Z",
     "iopub.status.busy": "2022-05-09T19:48:03.058628Z",
     "iopub.status.idle": "2022-05-09T19:48:03.069373Z",
     "shell.execute_reply": "2022-05-09T19:48:03.070430Z",
     "shell.execute_reply.started": "2022-05-09T17:23:34.925588Z"
    },
    "papermill": {
     "duration": 0.057152,
     "end_time": "2022-05-09T19:48:03.070607",
     "exception": false,
     "start_time": "2022-05-09T19:48:03.013455",
     "status": "completed"
    },
    "tags": []
   },
   "outputs": [],
   "source": [
    "# Dropping `RowNumber`, `CustomerId` and `Surname` columns as they are not useful in analysis and modeling\n",
    "\n",
    "drop_cols = ['RowNumber', 'CustomerId', 'Surname']\n",
    "df.drop(columns = drop_cols, inplace = True)"
   ]
  },
  {
   "cell_type": "code",
   "execution_count": 5,
   "id": "8ccf073d",
   "metadata": {},
   "outputs": [
    {
     "data": {
      "text/html": [
       "<pre style=\"white-space:pre;overflow-x:auto;line-height:normal;font-family:Menlo,'DejaVu Sans Mono',consolas,'Courier New',monospace\"><span style=\"color: #008080; text-decoration-color: #008080; font-weight: bold\">11</span> column names have been cleaned\n",
       "</pre>\n"
      ],
      "text/plain": [
       "\u001b[1;36m11\u001b[0m column names have been cleaned\n"
      ]
     },
     "metadata": {},
     "output_type": "display_data"
    }
   ],
   "source": [
    "# Cleaning the column names\n",
    "\n",
    "df = clean_columns(df)"
   ]
  },
  {
   "cell_type": "code",
   "execution_count": 6,
   "id": "58e6c2a6",
   "metadata": {
    "execution": {
     "iopub.execute_input": "2022-05-09T19:48:03.157719Z",
     "iopub.status.busy": "2022-05-09T19:48:03.157096Z",
     "iopub.status.idle": "2022-05-09T19:48:03.169793Z",
     "shell.execute_reply": "2022-05-09T19:48:03.170328Z",
     "shell.execute_reply.started": "2022-05-09T17:23:36.556859Z"
    },
    "papermill": {
     "duration": 0.058683,
     "end_time": "2022-05-09T19:48:03.170509",
     "exception": false,
     "start_time": "2022-05-09T19:48:03.111826",
     "status": "completed"
    },
    "tags": []
   },
   "outputs": [
    {
     "data": {
      "text/html": [
       "<div>\n",
       "<style scoped>\n",
       "    .dataframe tbody tr th:only-of-type {\n",
       "        vertical-align: middle;\n",
       "    }\n",
       "\n",
       "    .dataframe tbody tr th {\n",
       "        vertical-align: top;\n",
       "    }\n",
       "\n",
       "    .dataframe thead th {\n",
       "        text-align: right;\n",
       "    }\n",
       "</style>\n",
       "<table border=\"1\" class=\"dataframe\">\n",
       "  <thead>\n",
       "    <tr style=\"text-align: right;\">\n",
       "      <th></th>\n",
       "      <th>credit_score</th>\n",
       "      <th>geography</th>\n",
       "      <th>gender</th>\n",
       "      <th>age</th>\n",
       "      <th>tenure</th>\n",
       "      <th>balance</th>\n",
       "      <th>num_of_products</th>\n",
       "      <th>has_cr_card</th>\n",
       "      <th>is_active_member</th>\n",
       "      <th>estimated_salary</th>\n",
       "      <th>exited</th>\n",
       "    </tr>\n",
       "  </thead>\n",
       "  <tbody>\n",
       "    <tr>\n",
       "      <th>0</th>\n",
       "      <td>619</td>\n",
       "      <td>France</td>\n",
       "      <td>Female</td>\n",
       "      <td>42</td>\n",
       "      <td>2</td>\n",
       "      <td>0.00</td>\n",
       "      <td>1</td>\n",
       "      <td>1</td>\n",
       "      <td>1</td>\n",
       "      <td>101348.88</td>\n",
       "      <td>1</td>\n",
       "    </tr>\n",
       "    <tr>\n",
       "      <th>1</th>\n",
       "      <td>608</td>\n",
       "      <td>Spain</td>\n",
       "      <td>Female</td>\n",
       "      <td>41</td>\n",
       "      <td>1</td>\n",
       "      <td>83807.86</td>\n",
       "      <td>1</td>\n",
       "      <td>0</td>\n",
       "      <td>1</td>\n",
       "      <td>112542.58</td>\n",
       "      <td>0</td>\n",
       "    </tr>\n",
       "    <tr>\n",
       "      <th>2</th>\n",
       "      <td>502</td>\n",
       "      <td>France</td>\n",
       "      <td>Female</td>\n",
       "      <td>42</td>\n",
       "      <td>8</td>\n",
       "      <td>159660.80</td>\n",
       "      <td>3</td>\n",
       "      <td>1</td>\n",
       "      <td>0</td>\n",
       "      <td>113931.57</td>\n",
       "      <td>1</td>\n",
       "    </tr>\n",
       "    <tr>\n",
       "      <th>3</th>\n",
       "      <td>699</td>\n",
       "      <td>France</td>\n",
       "      <td>Female</td>\n",
       "      <td>39</td>\n",
       "      <td>1</td>\n",
       "      <td>0.00</td>\n",
       "      <td>2</td>\n",
       "      <td>0</td>\n",
       "      <td>0</td>\n",
       "      <td>93826.63</td>\n",
       "      <td>0</td>\n",
       "    </tr>\n",
       "    <tr>\n",
       "      <th>4</th>\n",
       "      <td>850</td>\n",
       "      <td>Spain</td>\n",
       "      <td>Female</td>\n",
       "      <td>43</td>\n",
       "      <td>2</td>\n",
       "      <td>125510.82</td>\n",
       "      <td>1</td>\n",
       "      <td>1</td>\n",
       "      <td>1</td>\n",
       "      <td>79084.10</td>\n",
       "      <td>0</td>\n",
       "    </tr>\n",
       "  </tbody>\n",
       "</table>\n",
       "</div>"
      ],
      "text/plain": [
       "   credit_score geography  gender  age  tenure    balance  num_of_products  \\\n",
       "0           619    France  Female   42       2       0.00                1   \n",
       "1           608     Spain  Female   41       1   83807.86                1   \n",
       "2           502    France  Female   42       8  159660.80                3   \n",
       "3           699    France  Female   39       1       0.00                2   \n",
       "4           850     Spain  Female   43       2  125510.82                1   \n",
       "\n",
       "   has_cr_card  is_active_member  estimated_salary  exited  \n",
       "0            1                 1         101348.88       1  \n",
       "1            0                 1         112542.58       0  \n",
       "2            1                 0         113931.57       1  \n",
       "3            0                 0          93826.63       0  \n",
       "4            1                 1          79084.10       0  "
      ]
     },
     "execution_count": 6,
     "metadata": {},
     "output_type": "execute_result"
    }
   ],
   "source": [
    "df.head()"
   ]
  },
  {
   "cell_type": "code",
   "execution_count": 7,
   "id": "11dd1308",
   "metadata": {
    "execution": {
     "iopub.execute_input": "2022-05-09T19:48:03.355176Z",
     "iopub.status.busy": "2022-05-09T19:48:03.354579Z",
     "iopub.status.idle": "2022-05-09T19:48:03.358852Z",
     "shell.execute_reply": "2022-05-09T19:48:03.359280Z",
     "shell.execute_reply.started": "2022-05-09T17:23:40.331822Z"
    },
    "papermill": {
     "duration": 0.049893,
     "end_time": "2022-05-09T19:48:03.359455",
     "exception": false,
     "start_time": "2022-05-09T19:48:03.309562",
     "status": "completed"
    },
    "tags": []
   },
   "outputs": [
    {
     "data": {
      "text/plain": [
       "(10000, 11)"
      ]
     },
     "execution_count": 7,
     "metadata": {},
     "output_type": "execute_result"
    }
   ],
   "source": [
    "# No.of rows and columns in dataframe\n",
    "\n",
    "df.shape"
   ]
  },
  {
   "cell_type": "code",
   "execution_count": 8,
   "id": "a2ba1ac1",
   "metadata": {},
   "outputs": [
    {
     "name": "stdout",
     "output_type": "stream",
     "text": [
      "<class 'pandas.core.frame.DataFrame'>\n",
      "RangeIndex: 10000 entries, 0 to 9999\n",
      "Data columns (total 11 columns):\n",
      " #   Column            Non-Null Count  Dtype  \n",
      "---  ------            --------------  -----  \n",
      " 0   credit_score      10000 non-null  int64  \n",
      " 1   geography         10000 non-null  object \n",
      " 2   gender            10000 non-null  object \n",
      " 3   age               10000 non-null  int64  \n",
      " 4   tenure            10000 non-null  int64  \n",
      " 5   balance           10000 non-null  float64\n",
      " 6   num_of_products   10000 non-null  int64  \n",
      " 7   has_cr_card       10000 non-null  int64  \n",
      " 8   is_active_member  10000 non-null  int64  \n",
      " 9   estimated_salary  10000 non-null  float64\n",
      " 10  exited            10000 non-null  int64  \n",
      "dtypes: float64(2), int64(7), object(2)\n",
      "memory usage: 859.5+ KB\n"
     ]
    }
   ],
   "source": [
    "df.info()"
   ]
  },
  {
   "cell_type": "code",
   "execution_count": 9,
   "id": "068d4d89",
   "metadata": {},
   "outputs": [
    {
     "data": {
      "text/plain": [
       "credit_score         460\n",
       "geography              3\n",
       "gender                 2\n",
       "age                   70\n",
       "tenure                11\n",
       "balance             6382\n",
       "num_of_products        4\n",
       "has_cr_card            2\n",
       "is_active_member       2\n",
       "estimated_salary    9999\n",
       "exited                 2\n",
       "dtype: int64"
      ]
     },
     "execution_count": 9,
     "metadata": {},
     "output_type": "execute_result"
    }
   ],
   "source": [
    "df.nunique()"
   ]
  },
  {
   "cell_type": "code",
   "execution_count": 10,
   "id": "2c5742be",
   "metadata": {},
   "outputs": [],
   "source": [
    "# Changing data type of `num_of_products`, `has_cr_card`, `is_active_member`, `tenure` and `exited` columns from integer to object type\n",
    "\n",
    "df['num_of_products'] = df['num_of_products'].astype('object')\n",
    "df['has_cr_card'] = df['has_cr_card'].astype('object')\n",
    "df['is_active_member'] = df['is_active_member'].astype('object')\n",
    "df['tenure'] = df['tenure'].astype('object')\n",
    "#df['exited'] = df['exited'].astype('object')"
   ]
  },
  {
   "cell_type": "code",
   "execution_count": 11,
   "id": "c604cba1",
   "metadata": {
    "execution": {
     "iopub.execute_input": "2022-05-09T19:48:03.258415Z",
     "iopub.status.busy": "2022-05-09T19:48:03.257744Z",
     "iopub.status.idle": "2022-05-09T19:48:03.265858Z",
     "shell.execute_reply": "2022-05-09T19:48:03.266318Z",
     "shell.execute_reply.started": "2022-05-09T17:23:39.105852Z"
    },
    "papermill": {
     "duration": 0.05339,
     "end_time": "2022-05-09T19:48:03.266489",
     "exception": false,
     "start_time": "2022-05-09T19:48:03.213099",
     "status": "completed"
    },
    "tags": []
   },
   "outputs": [
    {
     "data": {
      "text/plain": [
       "credit_score        0\n",
       "geography           0\n",
       "gender              0\n",
       "age                 0\n",
       "tenure              0\n",
       "balance             0\n",
       "num_of_products     0\n",
       "has_cr_card         0\n",
       "is_active_member    0\n",
       "estimated_salary    0\n",
       "exited              0\n",
       "dtype: int64"
      ]
     },
     "execution_count": 11,
     "metadata": {},
     "output_type": "execute_result"
    }
   ],
   "source": [
    "# Checking for missing values\n",
    "\n",
    "df.isna().sum()"
   ]
  },
  {
   "cell_type": "markdown",
   "id": "17a2ad86",
   "metadata": {},
   "source": [
    "## Exploring the data"
   ]
  },
  {
   "cell_type": "code",
   "execution_count": 12,
   "id": "b325405f",
   "metadata": {},
   "outputs": [
    {
     "data": {
      "image/png": "[encoded data removed]",
      "text/plain": [
       "<Figure size 432x288 with 1 Axes>"
      ]
     },
     "metadata": {
      "needs_background": "light"
     },
     "output_type": "display_data"
    }
   ],
   "source": [
    "ax = (df['exited'].value_counts()*100/len(df)).plot(kind='bar', rot=0, color=['b','orange'])\n",
    "ax.yaxis.set_major_formatter(mtick.PercentFormatter())\n",
    "ax.set_xticks([0, 1], labels = ['No', 'Yes'])\n",
    "ax.set_xlabel('Exited',fontweight='bold')\n",
    "ax.set_ylabel('% Customers',fontweight='bold')\n",
    "ax.set_title('Churn distribution',fontweight='bold')\n",
    "plt.show()"
   ]
  },
  {
   "cell_type": "markdown",
   "id": "304a2636",
   "metadata": {},
   "source": [
    "About 20% of the customers left the bank and rest 80% stayed with the bank."
   ]
  },
  {
   "cell_type": "code",
   "execution_count": 13,
   "id": "0a34aaa5",
   "metadata": {
    "execution": {
     "iopub.execute_input": "2022-05-09T19:48:03.530156Z",
     "iopub.status.busy": "2022-05-09T19:48:03.529596Z",
     "iopub.status.idle": "2022-05-09T19:48:03.736971Z",
     "shell.execute_reply": "2022-05-09T19:48:03.736444Z",
     "shell.execute_reply.started": "2022-05-09T17:39:05.004504Z"
    },
    "papermill": {
     "duration": 0.251439,
     "end_time": "2022-05-09T19:48:03.737109",
     "exception": false,
     "start_time": "2022-05-09T19:48:03.485670",
     "status": "completed"
    },
    "tags": []
   },
   "outputs": [
    {
     "data": {
      "image/png": "[encoded data removed]",
      "text/plain": [
       "<Figure size 432x288 with 1 Axes>"
      ]
     },
     "metadata": {
      "needs_background": "light"
     },
     "output_type": "display_data"
    }
   ],
   "source": [
    "ax = (df['gender'].value_counts()*100/len(df)).plot(kind='bar', rot=0, color=['b','orange'])\n",
    "ax.yaxis.set_major_formatter(mtick.PercentFormatter())\n",
    "ax.set_xlabel('Gender',fontweight='bold')\n",
    "ax.set_ylabel('% Customers',fontweight='bold')\n",
    "ax.set_title('Gender distribution',fontweight='bold')\n",
    "plt.show()"
   ]
  },
  {
   "cell_type": "markdown",
   "id": "2d49e922",
   "metadata": {
    "papermill": {
     "duration": 0.041972,
     "end_time": "2022-05-09T19:48:03.444504",
     "exception": false,
     "start_time": "2022-05-09T19:48:03.402532",
     "status": "completed"
    },
    "tags": []
   },
   "source": [
    "**Gender Distribution** - About half of the customers in the dataset are male while the other half are female"
   ]
  },
  {
   "cell_type": "code",
   "execution_count": 14,
   "id": "f4bd0e45",
   "metadata": {
    "execution": {
     "iopub.execute_input": "2022-05-09T19:48:03.912564Z",
     "iopub.status.busy": "2022-05-09T19:48:03.911635Z",
     "iopub.status.idle": "2022-05-09T19:48:04.075522Z",
     "shell.execute_reply": "2022-05-09T19:48:04.075957Z",
     "shell.execute_reply.started": "2022-05-09T17:24:24.056680Z"
    },
    "papermill": {
     "duration": 0.210442,
     "end_time": "2022-05-09T19:48:04.076129",
     "exception": false,
     "start_time": "2022-05-09T19:48:03.865687",
     "status": "completed"
    },
    "tags": []
   },
   "outputs": [
    {
     "data": {
      "image/png": "[encoded data removed]",
      "text/plain": [
       "<Figure size 432x288 with 1 Axes>"
      ]
     },
     "metadata": {
      "needs_background": "light"
     },
     "output_type": "display_data"
    }
   ],
   "source": [
    "ax = (df['geography'].value_counts()*100/len(df)).plot(kind='bar', rot=0, color=['b','orange','green'])\n",
    "ax.yaxis.set_major_formatter(mtick.PercentFormatter())\n",
    "ax.set_xlabel('Country', fontweight='bold')\n",
    "ax.set_ylabel('% Customers',fontweight='bold')\n",
    "ax.set_title('Customers from different countries', fontweight='bold')\n",
    "plt.show()"
   ]
  },
  {
   "cell_type": "markdown",
   "id": "70e898a6",
   "metadata": {},
   "source": [
    "50% Customers are from France, 25% are from Germany and Spain each."
   ]
  },
  {
   "cell_type": "code",
   "execution_count": 15,
   "id": "219420ed",
   "metadata": {
    "execution": {
     "iopub.execute_input": "2022-05-09T19:48:04.424235Z",
     "iopub.status.busy": "2022-05-09T19:48:04.423235Z",
     "iopub.status.idle": "2022-05-09T19:48:04.550761Z",
     "shell.execute_reply": "2022-05-09T19:48:04.550239Z",
     "shell.execute_reply.started": "2022-05-09T17:31:07.423890Z"
    },
    "papermill": {
     "duration": 0.178216,
     "end_time": "2022-05-09T19:48:04.550901",
     "exception": false,
     "start_time": "2022-05-09T19:48:04.372685",
     "status": "completed"
    },
    "tags": []
   },
   "outputs": [
    {
     "data": {
      "image/png": "[encoded data removed]",
      "text/plain": [
       "<Figure size 432x288 with 1 Axes>"
      ]
     },
     "metadata": {
      "needs_background": "light"
     },
     "output_type": "display_data"
    }
   ],
   "source": [
    "sns.countplot(x = 'tenure', data = df, color = 'blue')\n",
    "plt.xlabel('Tenure (in years)',fontweight='bold')\n",
    "plt.ylabel('Count',fontweight='bold')\n",
    "plt.title('Customer Tenures in Bank',fontweight='bold')\n",
    "plt.show()"
   ]
  },
  {
   "cell_type": "code",
   "execution_count": 16,
   "id": "f351bcec",
   "metadata": {
    "execution": {
     "iopub.execute_input": "2022-05-09T19:48:04.644912Z",
     "iopub.status.busy": "2022-05-09T19:48:04.643994Z",
     "iopub.status.idle": "2022-05-09T19:48:05.184798Z",
     "shell.execute_reply": "2022-05-09T19:48:05.185313Z",
     "shell.execute_reply.started": "2022-05-09T19:37:58.520535Z"
    },
    "papermill": {
     "duration": 0.589161,
     "end_time": "2022-05-09T19:48:05.185513",
     "exception": false,
     "start_time": "2022-05-09T19:48:04.596352",
     "status": "completed"
    },
    "tags": []
   },
   "outputs": [
    {
     "data": {
      "image/png": "[encoded data removed]",
      "text/plain": [
       "<Figure size 1440x720 with 5 Axes>"
      ]
     },
     "metadata": {
      "needs_background": "light"
     },
     "output_type": "display_data"
    }
   ],
   "source": [
    "plt.figure(figsize=(20,10))\n",
    "for n, col in enumerate(['geography', 'gender', 'has_cr_card', 'is_active_member', 'tenure']):\n",
    "    ax = plt.subplot(2,3,n+1)\n",
    "    sns.countplot(x=col, hue='exited' ,data=df, ax=ax)"
   ]
  },
  {
   "cell_type": "markdown",
   "id": "a7b5e5b0",
   "metadata": {},
   "source": [
    "1. Majority of the data is from persons from France. However, the proportion of churned customers is with inversely related to the population of customers alluding to the bank possibly having a problem (maybe not enough customer service resources allocated) in the areas where it has fewer clients.\n",
    "2. The proportion of female customers churning is also greater than that of male customers.\n",
    "3. Majority of the customers that churned are those with credit cards. \n",
    "4. The inactive members have a greater churn. The overall proportion of inactive members is quite high suggesting that the bank may need a program implemented to turn this group to active customers as this will definitely have a positive impact on the customer churn.\n",
    "5. There is no significant relation between tenure and churn."
   ]
  },
  {
   "cell_type": "code",
   "execution_count": 17,
   "id": "cd9397f1",
   "metadata": {
    "execution": {
     "iopub.execute_input": "2022-05-09T19:48:05.282975Z",
     "iopub.status.busy": "2022-05-09T19:48:05.281989Z",
     "iopub.status.idle": "2022-05-09T19:48:07.555058Z",
     "shell.execute_reply": "2022-05-09T19:48:07.555522Z",
     "shell.execute_reply.started": "2022-05-09T19:45:46.358457Z"
    },
    "papermill": {
     "duration": 2.323979,
     "end_time": "2022-05-09T19:48:07.555689",
     "exception": false,
     "start_time": "2022-05-09T19:48:05.231710",
     "status": "completed"
    },
    "tags": []
   },
   "outputs": [
    {
     "data": {
      "image/png": "[encoded data removed]",
      "text/plain": [
       "<Figure size 1440x864 with 4 Axes>"
      ]
     },
     "metadata": {
      "needs_background": "light"
     },
     "output_type": "display_data"
    }
   ],
   "source": [
    "plt.figure(figsize=(20,12))\n",
    "for n, col in enumerate(['credit_score', 'age', 'balance', 'estimated_salary']):\n",
    "    ax = plt.subplot(2,2,n+1)\n",
    "    sns.boxplot(y=col, x='exited', data=df, ax=ax)\n",
    "    ax.set_title(f'Distribution of {col}')"
   ]
  },
  {
   "cell_type": "markdown",
   "id": "75e838e1",
   "metadata": {},
   "source": [
    "1. There is no significant difference in the credit score and salary distribution between retained and churned customers.\n",
    "2. The older customers are churning at more than the younger ones alluding to a difference in service preference in the age categories. The bank may need to review their target market or review the strategy for retention between the different age groups\n",
    "3. The bank is losing customers with significant bank balances which is likely to hit their available capital for lending."
   ]
  },
  {
   "cell_type": "code",
   "execution_count": 18,
   "id": "9cd535d6",
   "metadata": {
    "execution": {
     "iopub.execute_input": "2022-05-09T19:48:08.495769Z",
     "iopub.status.busy": "2022-05-09T19:48:08.495172Z",
     "iopub.status.idle": "2022-05-09T19:48:08.510413Z",
     "shell.execute_reply": "2022-05-09T19:48:08.510816Z"
    },
    "papermill": {
     "duration": 0.069522,
     "end_time": "2022-05-09T19:48:08.510979",
     "exception": false,
     "start_time": "2022-05-09T19:48:08.441457",
     "status": "completed"
    },
    "tags": []
   },
   "outputs": [
    {
     "data": {
      "text/html": [
       "<div>\n",
       "<style scoped>\n",
       "    .dataframe tbody tr th:only-of-type {\n",
       "        vertical-align: middle;\n",
       "    }\n",
       "\n",
       "    .dataframe tbody tr th {\n",
       "        vertical-align: top;\n",
       "    }\n",
       "\n",
       "    .dataframe thead th {\n",
       "        text-align: right;\n",
       "    }\n",
       "</style>\n",
       "<table border=\"1\" class=\"dataframe\">\n",
       "  <thead>\n",
       "    <tr style=\"text-align: right;\">\n",
       "      <th></th>\n",
       "      <th>credit_score</th>\n",
       "      <th>age</th>\n",
       "      <th>balance</th>\n",
       "      <th>estimated_salary</th>\n",
       "    </tr>\n",
       "  </thead>\n",
       "  <tbody>\n",
       "    <tr>\n",
       "      <th>credit_score</th>\n",
       "      <td>1.000000</td>\n",
       "      <td>-0.003965</td>\n",
       "      <td>0.006268</td>\n",
       "      <td>-0.001384</td>\n",
       "    </tr>\n",
       "    <tr>\n",
       "      <th>age</th>\n",
       "      <td>-0.003965</td>\n",
       "      <td>1.000000</td>\n",
       "      <td>0.028308</td>\n",
       "      <td>-0.007201</td>\n",
       "    </tr>\n",
       "    <tr>\n",
       "      <th>balance</th>\n",
       "      <td>0.006268</td>\n",
       "      <td>0.028308</td>\n",
       "      <td>1.000000</td>\n",
       "      <td>0.012797</td>\n",
       "    </tr>\n",
       "    <tr>\n",
       "      <th>estimated_salary</th>\n",
       "      <td>-0.001384</td>\n",
       "      <td>-0.007201</td>\n",
       "      <td>0.012797</td>\n",
       "      <td>1.000000</td>\n",
       "    </tr>\n",
       "  </tbody>\n",
       "</table>\n",
       "</div>"
      ],
      "text/plain": [
       "                  credit_score       age   balance  estimated_salary\n",
       "credit_score          1.000000 -0.003965  0.006268         -0.001384\n",
       "age                  -0.003965  1.000000  0.028308         -0.007201\n",
       "balance               0.006268  0.028308  1.000000          0.012797\n",
       "estimated_salary     -0.001384 -0.007201  0.012797          1.000000"
      ]
     },
     "execution_count": 18,
     "metadata": {},
     "output_type": "execute_result"
    }
   ],
   "source": [
    "corr = df.drop(columns = 'exited').corr()\n",
    "corr"
   ]
  },
  {
   "cell_type": "code",
   "execution_count": 19,
   "id": "d1809b53",
   "metadata": {
    "execution": {
     "iopub.execute_input": "2022-05-09T19:48:08.614893Z",
     "iopub.status.busy": "2022-05-09T19:48:08.614308Z",
     "iopub.status.idle": "2022-05-09T19:48:09.312721Z",
     "shell.execute_reply": "2022-05-09T19:48:09.313148Z"
    },
    "papermill": {
     "duration": 0.751669,
     "end_time": "2022-05-09T19:48:09.313305",
     "exception": false,
     "start_time": "2022-05-09T19:48:08.561636",
     "status": "completed"
    },
    "tags": []
   },
   "outputs": [
    {
     "data": {
      "image/png": "[encoded data removed]",
      "text/plain": [
       "<Figure size 432x288 with 2 Axes>"
      ]
     },
     "metadata": {
      "needs_background": "light"
     },
     "output_type": "display_data"
    }
   ],
   "source": [
    "sns.heatmap(corr, annot = True, vmin = -1, vmax = 1)\n",
    "plt.show()"
   ]
  },
  {
   "cell_type": "markdown",
   "id": "9b36289d",
   "metadata": {},
   "source": [
    "There is no significant correlation between features."
   ]
  },
  {
   "cell_type": "markdown",
   "id": "966ccb1c",
   "metadata": {
    "papermill": {
     "duration": 0.052196,
     "end_time": "2022-05-09T19:48:09.418039",
     "exception": false,
     "start_time": "2022-05-09T19:48:09.365843",
     "status": "completed"
    },
    "tags": []
   },
   "source": [
    "## Building the model"
   ]
  },
  {
   "cell_type": "code",
   "execution_count": 20,
   "id": "1b164bba",
   "metadata": {},
   "outputs": [
    {
     "data": {
      "text/html": [
       "<div>\n",
       "<style scoped>\n",
       "    .dataframe tbody tr th:only-of-type {\n",
       "        vertical-align: middle;\n",
       "    }\n",
       "\n",
       "    .dataframe tbody tr th {\n",
       "        vertical-align: top;\n",
       "    }\n",
       "\n",
       "    .dataframe thead th {\n",
       "        text-align: right;\n",
       "    }\n",
       "</style>\n",
       "<table border=\"1\" class=\"dataframe\">\n",
       "  <thead>\n",
       "    <tr style=\"text-align: right;\">\n",
       "      <th></th>\n",
       "      <th>credit_score</th>\n",
       "      <th>geography</th>\n",
       "      <th>gender</th>\n",
       "      <th>age</th>\n",
       "      <th>tenure</th>\n",
       "      <th>balance</th>\n",
       "      <th>num_of_products</th>\n",
       "      <th>has_cr_card</th>\n",
       "      <th>is_active_member</th>\n",
       "      <th>estimated_salary</th>\n",
       "      <th>exited</th>\n",
       "    </tr>\n",
       "  </thead>\n",
       "  <tbody>\n",
       "    <tr>\n",
       "      <th>0</th>\n",
       "      <td>619</td>\n",
       "      <td>France</td>\n",
       "      <td>Female</td>\n",
       "      <td>42</td>\n",
       "      <td>2</td>\n",
       "      <td>0.00</td>\n",
       "      <td>1</td>\n",
       "      <td>1</td>\n",
       "      <td>1</td>\n",
       "      <td>101348.88</td>\n",
       "      <td>1</td>\n",
       "    </tr>\n",
       "    <tr>\n",
       "      <th>1</th>\n",
       "      <td>608</td>\n",
       "      <td>Spain</td>\n",
       "      <td>Female</td>\n",
       "      <td>41</td>\n",
       "      <td>1</td>\n",
       "      <td>83807.86</td>\n",
       "      <td>1</td>\n",
       "      <td>0</td>\n",
       "      <td>1</td>\n",
       "      <td>112542.58</td>\n",
       "      <td>0</td>\n",
       "    </tr>\n",
       "  </tbody>\n",
       "</table>\n",
       "</div>"
      ],
      "text/plain": [
       "   credit_score geography  gender  age tenure   balance num_of_products  \\\n",
       "0           619    France  Female   42      2      0.00               1   \n",
       "1           608     Spain  Female   41      1  83807.86               1   \n",
       "\n",
       "  has_cr_card is_active_member  estimated_salary  exited  \n",
       "0           1                1         101348.88       1  \n",
       "1           0                1         112542.58       0  "
      ]
     },
     "execution_count": 20,
     "metadata": {},
     "output_type": "execute_result"
    }
   ],
   "source": [
    "df.head(2)"
   ]
  },
  {
   "cell_type": "code",
   "execution_count": 21,
   "id": "da6f77fc",
   "metadata": {},
   "outputs": [],
   "source": [
    "df_new = df.copy()"
   ]
  },
  {
   "cell_type": "code",
   "execution_count": 22,
   "id": "13818a7e",
   "metadata": {},
   "outputs": [],
   "source": [
    "# Encoding categorical features\n",
    "\n",
    "df_new['gender'] = df_new['gender'].map({'Female': 0, 'Male': 1})\n",
    "geography_df = pd.get_dummies(df['geography'], drop_first = True)\n",
    "df_new = df_new.drop(columns = 'geography')\n",
    "df_new = pd.concat([df_new, geography_df], axis = 1)"
   ]
  },
  {
   "cell_type": "code",
   "execution_count": 23,
   "id": "b9fbfc4d",
   "metadata": {},
   "outputs": [],
   "source": [
    "# Splitting the data into training and test set\n",
    "\n",
    "X_train, X_test, y_train, y_test = train_test_split(df_new.drop(columns = 'exited'), df_new['exited'], \n",
    "                                                   test_size = 0.2, random_state = 10, stratify = df_new['exited'])"
   ]
  },
  {
   "cell_type": "code",
   "execution_count": 24,
   "id": "3baa0da1",
   "metadata": {},
   "outputs": [
    {
     "data": {
      "text/html": [
       "<div>\n",
       "<style scoped>\n",
       "    .dataframe tbody tr th:only-of-type {\n",
       "        vertical-align: middle;\n",
       "    }\n",
       "\n",
       "    .dataframe tbody tr th {\n",
       "        vertical-align: top;\n",
       "    }\n",
       "\n",
       "    .dataframe thead th {\n",
       "        text-align: right;\n",
       "    }\n",
       "</style>\n",
       "<table border=\"1\" class=\"dataframe\">\n",
       "  <thead>\n",
       "    <tr style=\"text-align: right;\">\n",
       "      <th></th>\n",
       "      <th>credit_score</th>\n",
       "      <th>gender</th>\n",
       "      <th>age</th>\n",
       "      <th>tenure</th>\n",
       "      <th>balance</th>\n",
       "      <th>num_of_products</th>\n",
       "      <th>has_cr_card</th>\n",
       "      <th>is_active_member</th>\n",
       "      <th>estimated_salary</th>\n",
       "      <th>exited</th>\n",
       "      <th>Germany</th>\n",
       "      <th>Spain</th>\n",
       "    </tr>\n",
       "  </thead>\n",
       "  <tbody>\n",
       "    <tr>\n",
       "      <th>0</th>\n",
       "      <td>619</td>\n",
       "      <td>0</td>\n",
       "      <td>42</td>\n",
       "      <td>2</td>\n",
       "      <td>0.00</td>\n",
       "      <td>1</td>\n",
       "      <td>1</td>\n",
       "      <td>1</td>\n",
       "      <td>101348.88</td>\n",
       "      <td>1</td>\n",
       "      <td>0</td>\n",
       "      <td>0</td>\n",
       "    </tr>\n",
       "    <tr>\n",
       "      <th>1</th>\n",
       "      <td>608</td>\n",
       "      <td>0</td>\n",
       "      <td>41</td>\n",
       "      <td>1</td>\n",
       "      <td>83807.86</td>\n",
       "      <td>1</td>\n",
       "      <td>0</td>\n",
       "      <td>1</td>\n",
       "      <td>112542.58</td>\n",
       "      <td>0</td>\n",
       "      <td>0</td>\n",
       "      <td>1</td>\n",
       "    </tr>\n",
       "    <tr>\n",
       "      <th>2</th>\n",
       "      <td>502</td>\n",
       "      <td>0</td>\n",
       "      <td>42</td>\n",
       "      <td>8</td>\n",
       "      <td>159660.80</td>\n",
       "      <td>3</td>\n",
       "      <td>1</td>\n",
       "      <td>0</td>\n",
       "      <td>113931.57</td>\n",
       "      <td>1</td>\n",
       "      <td>0</td>\n",
       "      <td>0</td>\n",
       "    </tr>\n",
       "    <tr>\n",
       "      <th>3</th>\n",
       "      <td>699</td>\n",
       "      <td>0</td>\n",
       "      <td>39</td>\n",
       "      <td>1</td>\n",
       "      <td>0.00</td>\n",
       "      <td>2</td>\n",
       "      <td>0</td>\n",
       "      <td>0</td>\n",
       "      <td>93826.63</td>\n",
       "      <td>0</td>\n",
       "      <td>0</td>\n",
       "      <td>0</td>\n",
       "    </tr>\n",
       "    <tr>\n",
       "      <th>4</th>\n",
       "      <td>850</td>\n",
       "      <td>0</td>\n",
       "      <td>43</td>\n",
       "      <td>2</td>\n",
       "      <td>125510.82</td>\n",
       "      <td>1</td>\n",
       "      <td>1</td>\n",
       "      <td>1</td>\n",
       "      <td>79084.10</td>\n",
       "      <td>0</td>\n",
       "      <td>0</td>\n",
       "      <td>1</td>\n",
       "    </tr>\n",
       "    <tr>\n",
       "      <th>...</th>\n",
       "      <td>...</td>\n",
       "      <td>...</td>\n",
       "      <td>...</td>\n",
       "      <td>...</td>\n",
       "      <td>...</td>\n",
       "      <td>...</td>\n",
       "      <td>...</td>\n",
       "      <td>...</td>\n",
       "      <td>...</td>\n",
       "      <td>...</td>\n",
       "      <td>...</td>\n",
       "      <td>...</td>\n",
       "    </tr>\n",
       "    <tr>\n",
       "      <th>9995</th>\n",
       "      <td>771</td>\n",
       "      <td>1</td>\n",
       "      <td>39</td>\n",
       "      <td>5</td>\n",
       "      <td>0.00</td>\n",
       "      <td>2</td>\n",
       "      <td>1</td>\n",
       "      <td>0</td>\n",
       "      <td>96270.64</td>\n",
       "      <td>0</td>\n",
       "      <td>0</td>\n",
       "      <td>0</td>\n",
       "    </tr>\n",
       "    <tr>\n",
       "      <th>9996</th>\n",
       "      <td>516</td>\n",
       "      <td>1</td>\n",
       "      <td>35</td>\n",
       "      <td>10</td>\n",
       "      <td>57369.61</td>\n",
       "      <td>1</td>\n",
       "      <td>1</td>\n",
       "      <td>1</td>\n",
       "      <td>101699.77</td>\n",
       "      <td>0</td>\n",
       "      <td>0</td>\n",
       "      <td>0</td>\n",
       "    </tr>\n",
       "    <tr>\n",
       "      <th>9997</th>\n",
       "      <td>709</td>\n",
       "      <td>0</td>\n",
       "      <td>36</td>\n",
       "      <td>7</td>\n",
       "      <td>0.00</td>\n",
       "      <td>1</td>\n",
       "      <td>0</td>\n",
       "      <td>1</td>\n",
       "      <td>42085.58</td>\n",
       "      <td>1</td>\n",
       "      <td>0</td>\n",
       "      <td>0</td>\n",
       "    </tr>\n",
       "    <tr>\n",
       "      <th>9998</th>\n",
       "      <td>772</td>\n",
       "      <td>1</td>\n",
       "      <td>42</td>\n",
       "      <td>3</td>\n",
       "      <td>75075.31</td>\n",
       "      <td>2</td>\n",
       "      <td>1</td>\n",
       "      <td>0</td>\n",
       "      <td>92888.52</td>\n",
       "      <td>1</td>\n",
       "      <td>1</td>\n",
       "      <td>0</td>\n",
       "    </tr>\n",
       "    <tr>\n",
       "      <th>9999</th>\n",
       "      <td>792</td>\n",
       "      <td>0</td>\n",
       "      <td>28</td>\n",
       "      <td>4</td>\n",
       "      <td>130142.79</td>\n",
       "      <td>1</td>\n",
       "      <td>1</td>\n",
       "      <td>0</td>\n",
       "      <td>38190.78</td>\n",
       "      <td>0</td>\n",
       "      <td>0</td>\n",
       "      <td>0</td>\n",
       "    </tr>\n",
       "  </tbody>\n",
       "</table>\n",
       "<p>10000 rows × 12 columns</p>\n",
       "</div>"
      ],
      "text/plain": [
       "      credit_score  gender  age tenure    balance num_of_products has_cr_card  \\\n",
       "0              619       0   42      2       0.00               1           1   \n",
       "1              608       0   41      1   83807.86               1           0   \n",
       "2              502       0   42      8  159660.80               3           1   \n",
       "3              699       0   39      1       0.00               2           0   \n",
       "4              850       0   43      2  125510.82               1           1   \n",
       "...            ...     ...  ...    ...        ...             ...         ...   \n",
       "9995           771       1   39      5       0.00               2           1   \n",
       "9996           516       1   35     10   57369.61               1           1   \n",
       "9997           709       0   36      7       0.00               1           0   \n",
       "9998           772       1   42      3   75075.31               2           1   \n",
       "9999           792       0   28      4  130142.79               1           1   \n",
       "\n",
       "     is_active_member  estimated_salary  exited  Germany  Spain  \n",
       "0                   1         101348.88       1        0      0  \n",
       "1                   1         112542.58       0        0      1  \n",
       "2                   0         113931.57       1        0      0  \n",
       "3                   0          93826.63       0        0      0  \n",
       "4                   1          79084.10       0        0      1  \n",
       "...               ...               ...     ...      ...    ...  \n",
       "9995                0          96270.64       0        0      0  \n",
       "9996                1         101699.77       0        0      0  \n",
       "9997                1          42085.58       1        0      0  \n",
       "9998                0          92888.52       1        1      0  \n",
       "9999                0          38190.78       0        0      0  \n",
       "\n",
       "[10000 rows x 12 columns]"
      ]
     },
     "execution_count": 24,
     "metadata": {},
     "output_type": "execute_result"
    }
   ],
   "source": [
    "df_new"
   ]
  },
  {
   "cell_type": "code",
   "execution_count": 25,
   "id": "4f36b86e",
   "metadata": {},
   "outputs": [
    {
     "data": {
      "text/plain": [
       "array([[0.44      , 1.        , 0.16216216, 0.2       , 0.52374476,\n",
       "        0.        , 1.        , 1.        , 0.23972724, 0.        ,\n",
       "        0.        ],\n",
       "       [0.968     , 1.        , 0.21621622, 0.5       , 0.        ,\n",
       "        0.33333333, 0.        , 0.        , 0.26715311, 0.        ,\n",
       "        1.        ]])"
      ]
     },
     "execution_count": 25,
     "metadata": {},
     "output_type": "execute_result"
    }
   ],
   "source": [
    "# Scaling numeric features\n",
    "\n",
    "scaler = MinMaxScaler()\n",
    "\n",
    "X_train_scaled = scaler.fit_transform(X_train)\n",
    "X_train_scaled[:2]"
   ]
  },
  {
   "cell_type": "code",
   "execution_count": 26,
   "id": "0cdebe54",
   "metadata": {},
   "outputs": [
    {
     "data": {
      "text/html": [
       "<style>#sk-container-id-1 {color: black;background-color: white;}#sk-container-id-1 pre{padding: 0;}#sk-container-id-1 div.sk-toggleable {background-color: white;}#sk-container-id-1 label.sk-toggleable__label {cursor: pointer;display: block;width: 100%;margin-bottom: 0;padding: 0.3em;box-sizing: border-box;text-align: center;}#sk-container-id-1 label.sk-toggleable__label-arrow:before {content: \"▸\";float: left;margin-right: 0.25em;color: #696969;}#sk-container-id-1 label.sk-toggleable__label-arrow:hover:before {color: black;}#sk-container-id-1 div.sk-estimator:hover label.sk-toggleable__label-arrow:before {color: black;}#sk-container-id-1 div.sk-toggleable__content {max-height: 0;max-width: 0;overflow: hidden;text-align: left;background-color: #f0f8ff;}#sk-container-id-1 div.sk-toggleable__content pre {margin: 0.2em;color: black;border-radius: 0.25em;background-color: #f0f8ff;}#sk-container-id-1 input.sk-toggleable__control:checked~div.sk-toggleable__content {max-height: 200px;max-width: 100%;overflow: auto;}#sk-container-id-1 input.sk-toggleable__control:checked~label.sk-toggleable__label-arrow:before {content: \"▾\";}#sk-container-id-1 div.sk-estimator input.sk-toggleable__control:checked~label.sk-toggleable__label {background-color: #d4ebff;}#sk-container-id-1 div.sk-label input.sk-toggleable__control:checked~label.sk-toggleable__label {background-color: #d4ebff;}#sk-container-id-1 input.sk-hidden--visually {border: 0;clip: rect(1px 1px 1px 1px);clip: rect(1px, 1px, 1px, 1px);height: 1px;margin: -1px;overflow: hidden;padding: 0;position: absolute;width: 1px;}#sk-container-id-1 div.sk-estimator {font-family: monospace;background-color: #f0f8ff;border: 1px dotted black;border-radius: 0.25em;box-sizing: border-box;margin-bottom: 0.5em;}#sk-container-id-1 div.sk-estimator:hover {background-color: #d4ebff;}#sk-container-id-1 div.sk-parallel-item::after {content: \"\";width: 100%;border-bottom: 1px solid gray;flex-grow: 1;}#sk-container-id-1 div.sk-label:hover label.sk-toggleable__label {background-color: #d4ebff;}#sk-container-id-1 div.sk-serial::before {content: \"\";position: absolute;border-left: 1px solid gray;box-sizing: border-box;top: 0;bottom: 0;left: 50%;z-index: 0;}#sk-container-id-1 div.sk-serial {display: flex;flex-direction: column;align-items: center;background-color: white;padding-right: 0.2em;padding-left: 0.2em;position: relative;}#sk-container-id-1 div.sk-item {position: relative;z-index: 1;}#sk-container-id-1 div.sk-parallel {display: flex;align-items: stretch;justify-content: center;background-color: white;position: relative;}#sk-container-id-1 div.sk-item::before, #sk-container-id-1 div.sk-parallel-item::before {content: \"\";position: absolute;border-left: 1px solid gray;box-sizing: border-box;top: 0;bottom: 0;left: 50%;z-index: -1;}#sk-container-id-1 div.sk-parallel-item {display: flex;flex-direction: column;z-index: 1;position: relative;background-color: white;}#sk-container-id-1 div.sk-parallel-item:first-child::after {align-self: flex-end;width: 50%;}#sk-container-id-1 div.sk-parallel-item:last-child::after {align-self: flex-start;width: 50%;}#sk-container-id-1 div.sk-parallel-item:only-child::after {width: 0;}#sk-container-id-1 div.sk-dashed-wrapped {border: 1px dashed gray;margin: 0 0.4em 0.5em 0.4em;box-sizing: border-box;padding-bottom: 0.4em;background-color: white;}#sk-container-id-1 div.sk-label label {font-family: monospace;font-weight: bold;display: inline-block;line-height: 1.2em;}#sk-container-id-1 div.sk-label-container {text-align: center;}#sk-container-id-1 div.sk-container {/* jupyter's `normalize.less` sets `[hidden] { display: none; }` but bootstrap.min.css set `[hidden] { display: none !important; }` so we also need the `!important` here to be able to override the default hidden behavior on the sphinx rendered scikit-learn.org. See: https://github.com/scikit-learn/scikit-learn/issues/21755 */display: inline-block !important;position: relative;}#sk-container-id-1 div.sk-text-repr-fallback {display: none;}</style><div id=\"sk-container-id-1\" class=\"sk-top-container\"><div class=\"sk-text-repr-fallback\"><pre>RandomForestClassifier(max_depth=5, random_state=10)</pre><b>In a Jupyter environment, please rerun this cell to show the HTML representation or trust the notebook. <br />On GitHub, the HTML representation is unable to render, please try loading this page with nbviewer.org.</b></div><div class=\"sk-container\" hidden><div class=\"sk-item\"><div class=\"sk-estimator sk-toggleable\"><input class=\"sk-toggleable__control sk-hidden--visually\" id=\"sk-estimator-id-1\" type=\"checkbox\" checked><label for=\"sk-estimator-id-1\" class=\"sk-toggleable__label sk-toggleable__label-arrow\">RandomForestClassifier</label><div class=\"sk-toggleable__content\"><pre>RandomForestClassifier(max_depth=5, random_state=10)</pre></div></div></div></div></div>"
      ],
      "text/plain": [
       "RandomForestClassifier(max_depth=5, random_state=10)"
      ]
     },
     "execution_count": 26,
     "metadata": {},
     "output_type": "execute_result"
    }
   ],
   "source": [
    "# Fitting the model\n",
    "\n",
    "model = RandomForestClassifier(max_depth = 5, random_state = 10)\n",
    "model.fit(X_train_scaled, y_train) "
   ]
  },
  {
   "cell_type": "code",
   "execution_count": 27,
   "id": "23737f1c",
   "metadata": {},
   "outputs": [
    {
     "name": "stdout",
     "output_type": "stream",
     "text": [
      "Training Scores: 86.02%\n"
     ]
    }
   ],
   "source": [
    "print(f'Training Scores: {round(model.score(X_train_scaled, y_train)*100, 2)}%')"
   ]
  },
  {
   "cell_type": "code",
   "execution_count": 28,
   "id": "a0b226a0",
   "metadata": {},
   "outputs": [],
   "source": [
    "X_test_scaled = scaler.transform(X_test)"
   ]
  },
  {
   "cell_type": "code",
   "execution_count": 29,
   "id": "a91e6921",
   "metadata": {},
   "outputs": [
    {
     "name": "stdout",
     "output_type": "stream",
     "text": [
      "Test Scores: 85.7%\n"
     ]
    }
   ],
   "source": [
    "print(f'Test Scores: {round(model.score(X_test_scaled, y_test)*100,2)}%')"
   ]
  },
  {
   "cell_type": "code",
   "execution_count": 30,
   "id": "49dd36c9",
   "metadata": {},
   "outputs": [
    {
     "data": {
      "text/plain": [
       "array([0.02279553, 0.01781942, 0.43379236, 0.00550124, 0.04646596,\n",
       "       0.29958937, 0.00128685, 0.09907238, 0.01504391, 0.05536152,\n",
       "       0.00327145])"
      ]
     },
     "execution_count": 30,
     "metadata": {},
     "output_type": "execute_result"
    }
   ],
   "source": [
    "model.feature_importances_"
   ]
  },
  {
   "cell_type": "code",
   "execution_count": 31,
   "id": "2c943a33",
   "metadata": {},
   "outputs": [
    {
     "data": {
      "text/plain": [
       "credit_score        0.022796\n",
       "gender              0.017819\n",
       "age                 0.433792\n",
       "tenure              0.005501\n",
       "balance             0.046466\n",
       "num_of_products     0.299589\n",
       "has_cr_card         0.001287\n",
       "is_active_member    0.099072\n",
       "estimated_salary    0.015044\n",
       "Germany             0.055362\n",
       "Spain               0.003271\n",
       "dtype: float64"
      ]
     },
     "execution_count": 31,
     "metadata": {},
     "output_type": "execute_result"
    }
   ],
   "source": [
    "feat_imp_series = pd.Series(model.feature_importances_, index = X_train.columns)\n",
    "feat_imp_series"
   ]
  },
  {
   "cell_type": "code",
   "execution_count": 32,
   "id": "a9b455fe",
   "metadata": {},
   "outputs": [
    {
     "data": {
      "image/png": "[encoded data removed]",
      "text/plain": [
       "<Figure size 432x288 with 1 Axes>"
      ]
     },
     "metadata": {
      "needs_background": "light"
     },
     "output_type": "display_data"
    }
   ],
   "source": [
    "feat_imp_series.sort_values().head(10).plot(kind='barh')\n",
    "plt.ylabel('Features')\n",
    "plt.xlabel('Coefficients')\n",
    "plt.title('Feature Importance')\n",
    "plt.show()"
   ]
  },
  {
   "cell_type": "markdown",
   "id": "46f7138b",
   "metadata": {},
   "source": [
    "Number of products, active status, customers from germany, balance are the top features which can explain churn rate of customers followed by other features as well. Number of products customer has with bank is highly related with churn rate, sp bank should focus on these customers. Customers from Germany are churning at greater proportion, so bank need to focus on how they can better their service in Germany. Customers active status explains churn rate, inactive members are more likely to left the bank, so bank need to focus on how they can retain these customers. Bank should focus on retaining customers having high balance along with customers having low balance."
   ]
  },
  {
   "cell_type": "code",
   "execution_count": 33,
   "id": "d81b49ae",
   "metadata": {},
   "outputs": [
    {
     "name": "stdout",
     "output_type": "stream",
     "text": [
      "Classification report: \n",
      "\n",
      "              precision    recall  f1-score   support\n",
      "\n",
      "           0       0.86      0.99      0.92      1593\n",
      "           1       0.87      0.35      0.50       407\n",
      "\n",
      "    accuracy                           0.86      2000\n",
      "   macro avg       0.86      0.67      0.71      2000\n",
      "weighted avg       0.86      0.86      0.83      2000\n",
      "\n"
     ]
    }
   ],
   "source": [
    "print('Classification report: \\n')\n",
    "print(classification_report(y_test, model.predict(X_test_scaled)))"
   ]
  },
  {
   "cell_type": "code",
   "execution_count": 34,
   "id": "918238bc",
   "metadata": {},
   "outputs": [
    {
     "data": {
      "image/png": "[encoded data removed]",
      "text/plain": [
       "<Figure size 432x288 with 2 Axes>"
      ]
     },
     "metadata": {
      "needs_background": "light"
     },
     "output_type": "display_data"
    }
   ],
   "source": [
    "cm = confusion_matrix(y_test, model.predict(X_test_scaled))\n",
    "ConfusionMatrixDisplay(cm, display_labels = ['No', 'Yes']).plot()\n",
    "plt.show()"
   ]
  }
 ],
 "metadata": {
  "kernelspec": {
   "display_name": "Python 3 (ipykernel)",
   "language": "python",
   "name": "python3"
  },
  "language_info": {
   "codemirror_mode": {
    "name": "ipython",
    "version": 3
   },
   "file_extension": ".py",
   "mimetype": "text/x-python",
   "name": "python",
   "nbconvert_exporter": "python",
   "pygments_lexer": "ipython3",
   "version": "3.8.10"
  },
  "papermill": {
   "default_parameters": {},
   "duration": 71.807806,
   "end_time": "2022-05-09T19:49:04.484493",
   "environment_variables": {},
   "exception": null,
   "input_path": "__notebook__.ipynb",
   "output_path": "__notebook__.ipynb",
   "parameters": {},
   "start_time": "2022-05-09T19:47:52.676687",
   "version": "2.3.3"
  }
 },
 "nbformat": 4,
 "nbformat_minor": 5
}
