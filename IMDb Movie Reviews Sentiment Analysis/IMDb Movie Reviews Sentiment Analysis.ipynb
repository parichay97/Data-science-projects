{
 "cells": [
  {
   "cell_type": "markdown",
   "id": "70448d2d",
   "metadata": {},
   "source": [
    "## Importing required libraries"
   ]
  },
  {
   "cell_type": "code",
   "execution_count": 1,
   "id": "aa1fe41c",
   "metadata": {
    "execution": {
     "iopub.execute_input": "2022-06-30T19:06:39.747474Z",
     "iopub.status.busy": "2022-06-30T19:06:39.746565Z",
     "iopub.status.idle": "2022-06-30T19:06:42.390011Z",
     "shell.execute_reply": "2022-06-30T19:06:42.388916Z"
    },
    "papermill": {
     "duration": 2.656119,
     "end_time": "2022-06-30T19:06:42.392808",
     "exception": false,
     "start_time": "2022-06-30T19:06:39.736689",
     "status": "completed"
    },
    "tags": []
   },
   "outputs": [],
   "source": [
    "import numpy as np \n",
    "import pandas as pd \n",
    "\n",
    "import re \n",
    "import nltk\n",
    "from nltk.corpus import stopwords\n",
    "from nltk.stem import WordNetLemmatizer\n",
    "\n",
    "from sklearn.feature_extraction.text import TfidfVectorizer\n",
    "from sklearn.model_selection import train_test_split\n",
    "from sklearn.linear_model import LogisticRegression\n",
    "from sklearn.metrics import classification_report, confusion_matrix\n",
    "\n",
    "from bs4 import BeautifulSoup \n",
    "\n",
    "from wordcloud import WordCloud\n",
    "\n",
    "import matplotlib.pyplot as plt\n",
    "import seaborn as sns\n",
    "\n",
    "import pickle\n",
    "\n",
    "import warnings\n",
    "warnings.simplefilter(\"ignore\")"
   ]
  },
  {
   "cell_type": "code",
   "execution_count": 2,
   "id": "57c9528f",
   "metadata": {},
   "outputs": [],
   "source": [
    "# Setting matplotlib parameters for plotting\n",
    "\n",
    "SMALL_SIZE = 12\n",
    "MEDIUM_SIZE = 14\n",
    "BIG_SIZE = 16\n",
    "LARGE_SIZE = 20\n",
    "\n",
    "params = {\n",
    "    'figure.figsize': (16, 8),\n",
    "    'font.size': SMALL_SIZE,\n",
    "    'xtick.labelsize': MEDIUM_SIZE,\n",
    "    'ytick.labelsize': MEDIUM_SIZE,\n",
    "    'legend.fontsize': BIG_SIZE,\n",
    "    'figure.titlesize': LARGE_SIZE,\n",
    "    'axes.titlesize': MEDIUM_SIZE,\n",
    "    'axes.labelsize': BIG_SIZE\n",
    "}\n",
    "plt.rcParams.update(params)"
   ]
  },
  {
   "cell_type": "markdown",
   "id": "e2ce8c02",
   "metadata": {},
   "source": [
    "## Loading and Inspecting the data"
   ]
  },
  {
   "cell_type": "code",
   "execution_count": 3,
   "id": "4d81e728",
   "metadata": {
    "execution": {
     "iopub.execute_input": "2022-06-30T19:06:42.411678Z",
     "iopub.status.busy": "2022-06-30T19:06:42.410969Z",
     "iopub.status.idle": "2022-06-30T19:06:43.488289Z",
     "shell.execute_reply": "2022-06-30T19:06:43.487020Z"
    },
    "papermill": {
     "duration": 1.089907,
     "end_time": "2022-06-30T19:06:43.490943",
     "exception": false,
     "start_time": "2022-06-30T19:06:42.401036",
     "status": "completed"
    },
    "tags": []
   },
   "outputs": [
    {
     "data": {
      "text/html": [
       "<div>\n",
       "<style scoped>\n",
       "    .dataframe tbody tr th:only-of-type {\n",
       "        vertical-align: middle;\n",
       "    }\n",
       "\n",
       "    .dataframe tbody tr th {\n",
       "        vertical-align: top;\n",
       "    }\n",
       "\n",
       "    .dataframe thead th {\n",
       "        text-align: right;\n",
       "    }\n",
       "</style>\n",
       "<table border=\"1\" class=\"dataframe\">\n",
       "  <thead>\n",
       "    <tr style=\"text-align: right;\">\n",
       "      <th></th>\n",
       "      <th>id</th>\n",
       "      <th>sentiment</th>\n",
       "      <th>review</th>\n",
       "    </tr>\n",
       "  </thead>\n",
       "  <tbody>\n",
       "    <tr>\n",
       "      <th>0</th>\n",
       "      <td>5814_8</td>\n",
       "      <td>1</td>\n",
       "      <td>With all this stuff going down at the moment w...</td>\n",
       "    </tr>\n",
       "    <tr>\n",
       "      <th>1</th>\n",
       "      <td>2381_9</td>\n",
       "      <td>1</td>\n",
       "      <td>\"The Classic War of the Worlds\" by Timothy Hin...</td>\n",
       "    </tr>\n",
       "    <tr>\n",
       "      <th>2</th>\n",
       "      <td>7759_3</td>\n",
       "      <td>0</td>\n",
       "      <td>The film starts with a manager (Nicholas Bell)...</td>\n",
       "    </tr>\n",
       "    <tr>\n",
       "      <th>3</th>\n",
       "      <td>3630_4</td>\n",
       "      <td>0</td>\n",
       "      <td>It must be assumed that those who praised this...</td>\n",
       "    </tr>\n",
       "    <tr>\n",
       "      <th>4</th>\n",
       "      <td>9495_8</td>\n",
       "      <td>1</td>\n",
       "      <td>Superbly trashy and wondrously unpretentious 8...</td>\n",
       "    </tr>\n",
       "  </tbody>\n",
       "</table>\n",
       "</div>"
      ],
      "text/plain": [
       "       id  sentiment                                             review\n",
       "0  5814_8          1  With all this stuff going down at the moment w...\n",
       "1  2381_9          1  \"The Classic War of the Worlds\" by Timothy Hin...\n",
       "2  7759_3          0  The film starts with a manager (Nicholas Bell)...\n",
       "3  3630_4          0  It must be assumed that those who praised this...\n",
       "4  9495_8          1  Superbly trashy and wondrously unpretentious 8..."
      ]
     },
     "execution_count": 3,
     "metadata": {},
     "output_type": "execute_result"
    }
   ],
   "source": [
    "train_df = pd.read_csv(\"labeledTrainData.tsv.zip\", delimiter = \"\\t\", header = 0, doublequote = False, escapechar = \"\\\\\")\n",
    "train_df.head()"
   ]
  },
  {
   "cell_type": "code",
   "execution_count": 4,
   "id": "42faa10a",
   "metadata": {
    "execution": {
     "iopub.execute_input": "2022-06-30T19:06:43.509770Z",
     "iopub.status.busy": "2022-06-30T19:06:43.509335Z",
     "iopub.status.idle": "2022-06-30T19:06:43.543022Z",
     "shell.execute_reply": "2022-06-30T19:06:43.541748Z"
    },
    "papermill": {
     "duration": 0.04646,
     "end_time": "2022-06-30T19:06:43.546020",
     "exception": false,
     "start_time": "2022-06-30T19:06:43.499560",
     "status": "completed"
    },
    "tags": []
   },
   "outputs": [
    {
     "name": "stdout",
     "output_type": "stream",
     "text": [
      "<class 'pandas.core.frame.DataFrame'>\n",
      "RangeIndex: 25000 entries, 0 to 24999\n",
      "Data columns (total 3 columns):\n",
      " #   Column     Non-Null Count  Dtype \n",
      "---  ------     --------------  ----- \n",
      " 0   id         25000 non-null  object\n",
      " 1   sentiment  25000 non-null  int64 \n",
      " 2   review     25000 non-null  object\n",
      "dtypes: int64(1), object(2)\n",
      "memory usage: 586.1+ KB\n"
     ]
    }
   ],
   "source": [
    "train_df.info()"
   ]
  },
  {
   "cell_type": "code",
   "execution_count": 5,
   "id": "7039669f",
   "metadata": {},
   "outputs": [
    {
     "data": {
      "text/plain": [
       "id           0\n",
       "sentiment    0\n",
       "review       0\n",
       "dtype: int64"
      ]
     },
     "execution_count": 5,
     "metadata": {},
     "output_type": "execute_result"
    }
   ],
   "source": [
    "train_df.isna().sum()"
   ]
  },
  {
   "cell_type": "code",
   "execution_count": 6,
   "id": "44d4b6f5",
   "metadata": {
    "execution": {
     "iopub.execute_input": "2022-06-30T19:06:43.565368Z",
     "iopub.status.busy": "2022-06-30T19:06:43.564955Z",
     "iopub.status.idle": "2022-06-30T19:06:43.572676Z",
     "shell.execute_reply": "2022-06-30T19:06:43.571393Z"
    },
    "papermill": {
     "duration": 0.020459,
     "end_time": "2022-06-30T19:06:43.575075",
     "exception": false,
     "start_time": "2022-06-30T19:06:43.554616",
     "status": "completed"
    },
    "tags": []
   },
   "outputs": [],
   "source": [
    "# Dropping `id` column since it is not useful in analysis and modeling\n",
    "\n",
    "train_df.drop(columns = \"id\", inplace = True)"
   ]
  },
  {
   "cell_type": "code",
   "execution_count": 7,
   "id": "d70248e5",
   "metadata": {
    "execution": {
     "iopub.execute_input": "2022-06-30T19:06:43.593802Z",
     "iopub.status.busy": "2022-06-30T19:06:43.593385Z",
     "iopub.status.idle": "2022-06-30T19:06:43.602981Z",
     "shell.execute_reply": "2022-06-30T19:06:43.602001Z"
    },
    "papermill": {
     "duration": 0.02143,
     "end_time": "2022-06-30T19:06:43.605033",
     "exception": false,
     "start_time": "2022-06-30T19:06:43.583603",
     "status": "completed"
    },
    "tags": []
   },
   "outputs": [
    {
     "data": {
      "text/html": [
       "<div>\n",
       "<style scoped>\n",
       "    .dataframe tbody tr th:only-of-type {\n",
       "        vertical-align: middle;\n",
       "    }\n",
       "\n",
       "    .dataframe tbody tr th {\n",
       "        vertical-align: top;\n",
       "    }\n",
       "\n",
       "    .dataframe thead th {\n",
       "        text-align: right;\n",
       "    }\n",
       "</style>\n",
       "<table border=\"1\" class=\"dataframe\">\n",
       "  <thead>\n",
       "    <tr style=\"text-align: right;\">\n",
       "      <th></th>\n",
       "      <th>sentiment</th>\n",
       "      <th>review</th>\n",
       "    </tr>\n",
       "  </thead>\n",
       "  <tbody>\n",
       "    <tr>\n",
       "      <th>0</th>\n",
       "      <td>1</td>\n",
       "      <td>With all this stuff going down at the moment w...</td>\n",
       "    </tr>\n",
       "    <tr>\n",
       "      <th>1</th>\n",
       "      <td>1</td>\n",
       "      <td>\"The Classic War of the Worlds\" by Timothy Hin...</td>\n",
       "    </tr>\n",
       "    <tr>\n",
       "      <th>2</th>\n",
       "      <td>0</td>\n",
       "      <td>The film starts with a manager (Nicholas Bell)...</td>\n",
       "    </tr>\n",
       "    <tr>\n",
       "      <th>3</th>\n",
       "      <td>0</td>\n",
       "      <td>It must be assumed that those who praised this...</td>\n",
       "    </tr>\n",
       "    <tr>\n",
       "      <th>4</th>\n",
       "      <td>1</td>\n",
       "      <td>Superbly trashy and wondrously unpretentious 8...</td>\n",
       "    </tr>\n",
       "  </tbody>\n",
       "</table>\n",
       "</div>"
      ],
      "text/plain": [
       "   sentiment                                             review\n",
       "0          1  With all this stuff going down at the moment w...\n",
       "1          1  \"The Classic War of the Worlds\" by Timothy Hin...\n",
       "2          0  The film starts with a manager (Nicholas Bell)...\n",
       "3          0  It must be assumed that those who praised this...\n",
       "4          1  Superbly trashy and wondrously unpretentious 8..."
      ]
     },
     "execution_count": 7,
     "metadata": {},
     "output_type": "execute_result"
    }
   ],
   "source": [
    "train_df.head()"
   ]
  },
  {
   "cell_type": "code",
   "execution_count": 8,
   "id": "6d6bbca2",
   "metadata": {},
   "outputs": [
    {
     "data": {
      "image/png": "[encoded data removed]",
      "text/plain": [
       "<Figure size 432x288 with 1 Axes>"
      ]
     },
     "metadata": {
      "needs_background": "light"
     },
     "output_type": "display_data"
    }
   ],
   "source": [
    "sns.countplot(train_df[\"sentiment\"])\n",
    "plt.xticks(ticks = [0, 1], labels = [\"No\", \"Yes\"])\n",
    "plt.ylabel(\"Count\")\n",
    "plt.xlabel(\"Sentiment\")\n",
    "plt.title(\"Sentiment Count\")\n",
    "plt.show()"
   ]
  },
  {
   "cell_type": "code",
   "execution_count": 9,
   "id": "eddc7b60",
   "metadata": {
    "execution": {
     "iopub.execute_input": "2022-06-30T19:06:43.660688Z",
     "iopub.status.busy": "2022-06-30T19:06:43.659911Z",
     "iopub.status.idle": "2022-06-30T19:06:43.681527Z",
     "shell.execute_reply": "2022-06-30T19:06:43.680485Z"
    },
    "papermill": {
     "duration": 0.036849,
     "end_time": "2022-06-30T19:06:43.684118",
     "exception": false,
     "start_time": "2022-06-30T19:06:43.647269",
     "status": "completed"
    },
    "tags": []
   },
   "outputs": [],
   "source": [
    "train_len = train_df[\"review\"].apply(len)"
   ]
  },
  {
   "cell_type": "code",
   "execution_count": 10,
   "id": "5e807cf7",
   "metadata": {
    "execution": {
     "iopub.execute_input": "2022-06-30T19:06:43.704235Z",
     "iopub.status.busy": "2022-06-30T19:06:43.703623Z",
     "iopub.status.idle": "2022-06-30T19:06:44.250653Z",
     "shell.execute_reply": "2022-06-30T19:06:44.249306Z"
    },
    "papermill": {
     "duration": 0.560333,
     "end_time": "2022-06-30T19:06:44.253245",
     "exception": false,
     "start_time": "2022-06-30T19:06:43.692912",
     "status": "completed"
    },
    "tags": []
   },
   "outputs": [
    {
     "data": {
      "image/png": "[encoded data removed]",
      "text/plain": [
       "<Figure size 432x288 with 1 Axes>"
      ]
     },
     "metadata": {
      "needs_background": "light"
     },
     "output_type": "display_data"
    }
   ],
   "source": [
    "sns.distplot(train_len)\n",
    "plt.xlabel(\"No. of characters in each review\")\n",
    "plt.title(\"Distribtion of character count in reviews\")\n",
    "plt.show()"
   ]
  },
  {
   "cell_type": "code",
   "execution_count": 11,
   "id": "95ec446c",
   "metadata": {
    "execution": {
     "iopub.execute_input": "2022-06-30T19:06:44.273983Z",
     "iopub.status.busy": "2022-06-30T19:06:44.273557Z",
     "iopub.status.idle": "2022-06-30T19:06:44.681659Z",
     "shell.execute_reply": "2022-06-30T19:06:44.680002Z"
    },
    "papermill": {
     "duration": 0.421775,
     "end_time": "2022-06-30T19:06:44.684459",
     "exception": false,
     "start_time": "2022-06-30T19:06:44.262684",
     "status": "completed"
    },
    "tags": []
   },
   "outputs": [],
   "source": [
    "train_df[\"num_words\"] = train_df[\"review\"].apply(lambda x: len(x.split()))"
   ]
  },
  {
   "cell_type": "code",
   "execution_count": 12,
   "id": "d6790aeb",
   "metadata": {
    "execution": {
     "iopub.execute_input": "2022-06-30T19:06:44.707588Z",
     "iopub.status.busy": "2022-06-30T19:06:44.706533Z",
     "iopub.status.idle": "2022-06-30T19:06:45.196598Z",
     "shell.execute_reply": "2022-06-30T19:06:45.195337Z"
    },
    "papermill": {
     "duration": 0.505658,
     "end_time": "2022-06-30T19:06:45.200354",
     "exception": false,
     "start_time": "2022-06-30T19:06:44.694696",
     "status": "completed"
    },
    "tags": []
   },
   "outputs": [
    {
     "data": {
      "image/png": "[encoded data removed]",
      "text/plain": [
       "<Figure size 432x288 with 1 Axes>"
      ]
     },
     "metadata": {
      "needs_background": "light"
     },
     "output_type": "display_data"
    }
   ],
   "source": [
    "sns.distplot(train_df[\"num_words\"])\n",
    "plt.xlabel(\"No. of words in each review\")\n",
    "plt.title(\"Distribtion of word count in reviews\")\n",
    "plt.show()"
   ]
  },
  {
   "cell_type": "markdown",
   "id": "16946f43",
   "metadata": {},
   "source": [
    "## Text preprocessing"
   ]
  },
  {
   "cell_type": "code",
   "execution_count": 13,
   "id": "0a654694",
   "metadata": {},
   "outputs": [],
   "source": [
    "all_stopwords = set(stopwords.words('english'))\n",
    "lemmatizer = WordNetLemmatizer()"
   ]
  },
  {
   "cell_type": "code",
   "execution_count": 14,
   "id": "5c19ccc0",
   "metadata": {},
   "outputs": [],
   "source": [
    "def clean_text(review):\n",
    "    \"Function to preprocess the reviews inorder to feed into model\"\n",
    "        \n",
    "    clean_review = BeautifulSoup(review).get_text()\n",
    "    clean_review = re.sub(\"[^a-zA-Z]\",\" \", clean_review) \n",
    "    clean_review = clean_review.lower()\n",
    "    clean_review = clean_review.split()\n",
    "    clean_review = [lemmatizer.lemmatize(word) for word in clean_review if not word in all_stopwords]\n",
    "    \n",
    "    return \" \".join(clean_review)"
   ]
  },
  {
   "cell_type": "code",
   "execution_count": 15,
   "id": "18209f9a",
   "metadata": {},
   "outputs": [],
   "source": [
    "train_df[\"clean review\"] = train_df[\"review\"].apply(clean_text)"
   ]
  },
  {
   "cell_type": "code",
   "execution_count": 16,
   "id": "935f7149",
   "metadata": {},
   "outputs": [
    {
     "data": {
      "text/html": [
       "<div>\n",
       "<style scoped>\n",
       "    .dataframe tbody tr th:only-of-type {\n",
       "        vertical-align: middle;\n",
       "    }\n",
       "\n",
       "    .dataframe tbody tr th {\n",
       "        vertical-align: top;\n",
       "    }\n",
       "\n",
       "    .dataframe thead th {\n",
       "        text-align: right;\n",
       "    }\n",
       "</style>\n",
       "<table border=\"1\" class=\"dataframe\">\n",
       "  <thead>\n",
       "    <tr style=\"text-align: right;\">\n",
       "      <th></th>\n",
       "      <th>sentiment</th>\n",
       "      <th>review</th>\n",
       "      <th>num_words</th>\n",
       "      <th>clean review</th>\n",
       "    </tr>\n",
       "  </thead>\n",
       "  <tbody>\n",
       "    <tr>\n",
       "      <th>0</th>\n",
       "      <td>1</td>\n",
       "      <td>With all this stuff going down at the moment w...</td>\n",
       "      <td>433</td>\n",
       "      <td>stuff going moment mj started listening music ...</td>\n",
       "    </tr>\n",
       "    <tr>\n",
       "      <th>1</th>\n",
       "      <td>1</td>\n",
       "      <td>\"The Classic War of the Worlds\" by Timothy Hin...</td>\n",
       "      <td>158</td>\n",
       "      <td>classic war world timothy hines entertaining f...</td>\n",
       "    </tr>\n",
       "    <tr>\n",
       "      <th>2</th>\n",
       "      <td>0</td>\n",
       "      <td>The film starts with a manager (Nicholas Bell)...</td>\n",
       "      <td>378</td>\n",
       "      <td>film start manager nicholas bell giving welcom...</td>\n",
       "    </tr>\n",
       "    <tr>\n",
       "      <th>3</th>\n",
       "      <td>0</td>\n",
       "      <td>It must be assumed that those who praised this...</td>\n",
       "      <td>379</td>\n",
       "      <td>must assumed praised film greatest filmed oper...</td>\n",
       "    </tr>\n",
       "    <tr>\n",
       "      <th>4</th>\n",
       "      <td>1</td>\n",
       "      <td>Superbly trashy and wondrously unpretentious 8...</td>\n",
       "      <td>367</td>\n",
       "      <td>superbly trashy wondrously unpretentious explo...</td>\n",
       "    </tr>\n",
       "  </tbody>\n",
       "</table>\n",
       "</div>"
      ],
      "text/plain": [
       "   sentiment                                             review  num_words  \\\n",
       "0          1  With all this stuff going down at the moment w...        433   \n",
       "1          1  \"The Classic War of the Worlds\" by Timothy Hin...        158   \n",
       "2          0  The film starts with a manager (Nicholas Bell)...        378   \n",
       "3          0  It must be assumed that those who praised this...        379   \n",
       "4          1  Superbly trashy and wondrously unpretentious 8...        367   \n",
       "\n",
       "                                        clean review  \n",
       "0  stuff going moment mj started listening music ...  \n",
       "1  classic war world timothy hines entertaining f...  \n",
       "2  film start manager nicholas bell giving welcom...  \n",
       "3  must assumed praised film greatest filmed oper...  \n",
       "4  superbly trashy wondrously unpretentious explo...  "
      ]
     },
     "execution_count": 16,
     "metadata": {},
     "output_type": "execute_result"
    }
   ],
   "source": [
    "train_df.head()"
   ]
  },
  {
   "cell_type": "code",
   "execution_count": 17,
   "id": "1e66538d",
   "metadata": {
    "execution": {
     "iopub.execute_input": "2022-06-30T19:09:27.623085Z",
     "iopub.status.busy": "2022-06-30T19:09:27.622181Z",
     "iopub.status.idle": "2022-06-30T19:10:00.262543Z",
     "shell.execute_reply": "2022-06-30T19:10:00.261052Z"
    },
    "papermill": {
     "duration": 32.665334,
     "end_time": "2022-06-30T19:10:00.270371",
     "exception": false,
     "start_time": "2022-06-30T19:09:27.605037",
     "status": "completed"
    },
    "tags": []
   },
   "outputs": [
    {
     "data": {
      "image/png": "[encoded data removed]",
      "text/plain": [
       "<Figure size 432x288 with 1 Axes>"
      ]
     },
     "metadata": {
      "needs_background": "light"
     },
     "output_type": "display_data"
    }
   ],
   "source": [
    "cloud = WordCloud().generate(train_df[\"clean review\"].str.cat(sep = \" \"))\n",
    "plt.imshow(cloud)\n",
    "plt.axis(\"off\")\n",
    "plt.show()"
   ]
  },
  {
   "cell_type": "markdown",
   "id": "96ddbaf8",
   "metadata": {},
   "source": [
    "## Training the model"
   ]
  },
  {
   "cell_type": "markdown",
   "id": "cbdf14a9",
   "metadata": {},
   "source": [
    "Bag of words is a Natural Language Processing technique of text modelling. In technical terms, we can say that it is a method of feature extraction with text data. This approach is a simple and flexible way of extracting features from documents.\n",
    "A bag of words is a representation of text that describes the occurrence of words within a document. We just keep track of word counts and disregard the grammatical details and the word order. It is called a “bag” of words because any information about the order or structure of words in the document is discarded. The model is only concerned with whether known words occur in the document, not where in the document.\n",
    "\n",
    "One of the biggest problems with text is that it is messy and unstructured, and machine learning algorithms prefer structured, well defined fixed-length inputs and by using the Bag-of-Words technique we can convert variable-length texts into a fixed-length vector. Also, at a much granular level, the machine learning models work with numerical data rather than textual data. So to be more specific, by using the bag-of-words (BoW) technique, we convert a text into its equivalent vector of numbers.\n",
    "\n",
    "TF-IDF for a word in a document is calculated by multiplying two different metrics:\n",
    "The term frequency (TF) of a word in a document. There are several ways of calculating this frequency, with the simplest being a raw count of instances a word appears in a document. Then, there are other ways to adjust the frequency. For example, by dividing the raw count of instances of a word by either length of the document, or by the raw frequency of the most frequent word in the document. The formula to calculate Term-Frequency is<br>\n",
    "\n",
    "**TF(i,j)=n(i,j)/Σ n(i,j)**<br>\n",
    "Where,<br>\n",
    "n(i,j )= number of times nth word  occurred in a document<br>\n",
    "Σn(i,j) = total number of words in a document.<br>\n",
    "\n",
    "The inverse document frequency(IDF) of the word across a set of documents. This suggests how common or rare a word is in the entire document set. The closer it is to 0, the more common is the word. This metric can be calculated by taking the total number of documents, dividing it by the number of documents that contain a word, and calculating the logarithm.\n",
    "So, if the word is very common and appears in many documents, this number will approach 0. Otherwise, it will approach 1.\n",
    "Multiplying these two numbers results in the TF-IDF score of a word in a document. The higher the score, the more relevant that word is in that particular document.\n",
    "\n",
    "To put it in mathematical terms, the TF-IDF score is calculated as follows:\n",
    "\n",
    "**IDF=1+log(N/dN)**<br>\n",
    "Where<br>\n",
    "N=Total number of documents in the dataset<br>\n",
    "dN=total number of documents in which nth word occur<br>\n",
    "\n",
    "Also, note that the 1 added in the above formula is so that terms with zero IDF don’t get suppressed entirely. This process is known as IDF smoothing.\n",
    "\n",
    "The TF-IDF is obtained by<br>\n",
    "**TF-IDF=TF*IDF**\n",
    "\n",
    "The inverse document frequency(IDF) of the word across a set of documents. This suggests how common or rare a word is in the entire document set. The closer it is to 0, the more common is the word. This metric can be calculated by taking the total number of documents, dividing it by the number of documents that contain a word, and calculating the logarithm."
   ]
  },
  {
   "cell_type": "code",
   "execution_count": 18,
   "id": "b7f54c42",
   "metadata": {},
   "outputs": [],
   "source": [
    "X_train, X_test, y_train, y_test = train_test_split(train_df[\"clean review\"], train_df[\"sentiment\"], \n",
    "                                                    test_size = 0.2, random_state = 10)"
   ]
  },
  {
   "cell_type": "code",
   "execution_count": 19,
   "id": "b8be676b",
   "metadata": {},
   "outputs": [],
   "source": [
    "vectorizer = TfidfVectorizer(max_features = 1000)\n",
    "X_train_vect = vectorizer.fit_transform(X_train)\n",
    "X_test_vect = vectorizer.transform(X_test)"
   ]
  },
  {
   "cell_type": "code",
   "execution_count": 20,
   "id": "b83c0ca7",
   "metadata": {},
   "outputs": [],
   "source": [
    "def model(model):\n",
    "    \"Function to train the model and print training and test scores\"\n",
    "    \n",
    "    model = model()\n",
    "    model.fit(X_train_vect, y_train)\n",
    "    print(f\"Training scores: {round(model.score(X_train_vect, y_train)*100, 2)}%\")\n",
    "    print(f\"Test scores: {round(model.score(X_test_vect, y_test)*100, 2)}%\")\n",
    "    \n",
    "    return model"
   ]
  },
  {
   "cell_type": "code",
   "execution_count": 21,
   "id": "5d8ed546",
   "metadata": {},
   "outputs": [
    {
     "name": "stdout",
     "output_type": "stream",
     "text": [
      "Training scores: 87.2%\n",
      "Test scores: 86.42%\n"
     ]
    }
   ],
   "source": [
    "lr_model = model(LogisticRegression)"
   ]
  },
  {
   "cell_type": "code",
   "execution_count": 22,
   "id": "6460eb53",
   "metadata": {},
   "outputs": [
    {
     "name": "stdout",
     "output_type": "stream",
     "text": [
      "Classification report: \n",
      "\n",
      "              precision    recall  f1-score   support\n",
      "\n",
      "           0       0.87      0.85      0.86      2488\n",
      "           1       0.85      0.88      0.87      2512\n",
      "\n",
      "    accuracy                           0.86      5000\n",
      "   macro avg       0.86      0.86      0.86      5000\n",
      "weighted avg       0.86      0.86      0.86      5000\n",
      "\n"
     ]
    }
   ],
   "source": [
    "print(\"Classification report: \\n\")\n",
    "print(classification_report(y_test, lr_model.predict(X_test_vect)))"
   ]
  },
  {
   "cell_type": "code",
   "execution_count": 23,
   "id": "03f76ade",
   "metadata": {},
   "outputs": [
    {
     "data": {
      "image/png": "[encoded data removed]",
      "text/plain": [
       "<Figure size 432x288 with 2 Axes>"
      ]
     },
     "metadata": {
      "needs_background": "light"
     },
     "output_type": "display_data"
    }
   ],
   "source": [
    "cm = confusion_matrix(y_test, lr_model.predict(X_test_vect))\n",
    "sns.heatmap(cm, annot = True, fmt = \".0f\", xticklabels = [\"Negative\", \"Positive\"],  yticklabels = [\"Negative\", \"Positive\"])\n",
    "plt.xlabel(\"Predicted Sentiment\")\n",
    "plt.ylabel(\"True Sentiment\")\n",
    "plt.show()"
   ]
  },
  {
   "cell_type": "markdown",
   "id": "be8cff2a",
   "metadata": {},
   "source": [
    "## Testing the model on separate test data"
   ]
  },
  {
   "cell_type": "code",
   "execution_count": 24,
   "id": "5b575120",
   "metadata": {
    "execution": {
     "iopub.execute_input": "2022-06-30T19:10:08.182790Z",
     "iopub.status.busy": "2022-06-30T19:10:08.181629Z",
     "iopub.status.idle": "2022-06-30T19:10:09.195618Z",
     "shell.execute_reply": "2022-06-30T19:10:09.193869Z"
    },
    "papermill": {
     "duration": 1.039586,
     "end_time": "2022-06-30T19:10:09.198577",
     "exception": false,
     "start_time": "2022-06-30T19:10:08.158991",
     "status": "completed"
    },
    "tags": []
   },
   "outputs": [
    {
     "data": {
      "text/html": [
       "<div>\n",
       "<style scoped>\n",
       "    .dataframe tbody tr th:only-of-type {\n",
       "        vertical-align: middle;\n",
       "    }\n",
       "\n",
       "    .dataframe tbody tr th {\n",
       "        vertical-align: top;\n",
       "    }\n",
       "\n",
       "    .dataframe thead th {\n",
       "        text-align: right;\n",
       "    }\n",
       "</style>\n",
       "<table border=\"1\" class=\"dataframe\">\n",
       "  <thead>\n",
       "    <tr style=\"text-align: right;\">\n",
       "      <th></th>\n",
       "      <th>id</th>\n",
       "      <th>review</th>\n",
       "    </tr>\n",
       "  </thead>\n",
       "  <tbody>\n",
       "    <tr>\n",
       "      <th>0</th>\n",
       "      <td>12311_10</td>\n",
       "      <td>Naturally in a film who's main themes are of m...</td>\n",
       "    </tr>\n",
       "    <tr>\n",
       "      <th>1</th>\n",
       "      <td>8348_2</td>\n",
       "      <td>This movie is a disaster within a disaster fil...</td>\n",
       "    </tr>\n",
       "    <tr>\n",
       "      <th>2</th>\n",
       "      <td>5828_4</td>\n",
       "      <td>All in all, this is a movie for kids. We saw i...</td>\n",
       "    </tr>\n",
       "    <tr>\n",
       "      <th>3</th>\n",
       "      <td>7186_2</td>\n",
       "      <td>Afraid of the Dark left me with the impression...</td>\n",
       "    </tr>\n",
       "    <tr>\n",
       "      <th>4</th>\n",
       "      <td>12128_7</td>\n",
       "      <td>A very accurate depiction of small time mob li...</td>\n",
       "    </tr>\n",
       "  </tbody>\n",
       "</table>\n",
       "</div>"
      ],
      "text/plain": [
       "         id                                             review\n",
       "0  12311_10  Naturally in a film who's main themes are of m...\n",
       "1    8348_2  This movie is a disaster within a disaster fil...\n",
       "2    5828_4  All in all, this is a movie for kids. We saw i...\n",
       "3    7186_2  Afraid of the Dark left me with the impression...\n",
       "4   12128_7  A very accurate depiction of small time mob li..."
      ]
     },
     "execution_count": 24,
     "metadata": {},
     "output_type": "execute_result"
    }
   ],
   "source": [
    "test_df = pd.read_csv(\"testData.tsv.zip\", delimiter = \"\\t\", header = 0, doublequote = False, escapechar = \"\\\\\")\n",
    "test_df.head()"
   ]
  },
  {
   "cell_type": "code",
   "execution_count": 25,
   "id": "ba5a53b9",
   "metadata": {},
   "outputs": [],
   "source": [
    "test_len = test_df[\"review\"].apply(len)"
   ]
  },
  {
   "cell_type": "code",
   "execution_count": 26,
   "id": "f5f62a44",
   "metadata": {},
   "outputs": [
    {
     "data": {
      "image/png": "[encoded data removed]",
      "text/plain": [
       "<Figure size 432x288 with 1 Axes>"
      ]
     },
     "metadata": {
      "needs_background": "light"
     },
     "output_type": "display_data"
    }
   ],
   "source": [
    "sns.distplot(test_len)\n",
    "plt.xlabel(\"No. of characters in each review\")\n",
    "plt.title(\"Distribtion of character count in reviews\")\n",
    "plt.show()"
   ]
  },
  {
   "cell_type": "code",
   "execution_count": 27,
   "id": "95808673",
   "metadata": {},
   "outputs": [],
   "source": [
    "test_df[\"num_words\"] = test_df[\"review\"].apply(lambda x: len(x.split()))"
   ]
  },
  {
   "cell_type": "code",
   "execution_count": 28,
   "id": "2c7af631",
   "metadata": {},
   "outputs": [
    {
     "data": {
      "image/png": "[encoded data removed]",
      "text/plain": [
       "<Figure size 432x288 with 1 Axes>"
      ]
     },
     "metadata": {
      "needs_background": "light"
     },
     "output_type": "display_data"
    }
   ],
   "source": [
    "sns.distplot(test_df[\"num_words\"])\n",
    "plt.xlabel(\"No. of words in each review\")\n",
    "plt.title(\"Distribtion of word count in reviews\")\n",
    "plt.show()"
   ]
  },
  {
   "cell_type": "code",
   "execution_count": 29,
   "id": "9002e017",
   "metadata": {},
   "outputs": [],
   "source": [
    "test_df[\"clean review\"] = test_df[\"review\"].apply(clean_text)"
   ]
  },
  {
   "cell_type": "code",
   "execution_count": 30,
   "id": "2509d88a",
   "metadata": {},
   "outputs": [
    {
     "data": {
      "text/html": [
       "<div>\n",
       "<style scoped>\n",
       "    .dataframe tbody tr th:only-of-type {\n",
       "        vertical-align: middle;\n",
       "    }\n",
       "\n",
       "    .dataframe tbody tr th {\n",
       "        vertical-align: top;\n",
       "    }\n",
       "\n",
       "    .dataframe thead th {\n",
       "        text-align: right;\n",
       "    }\n",
       "</style>\n",
       "<table border=\"1\" class=\"dataframe\">\n",
       "  <thead>\n",
       "    <tr style=\"text-align: right;\">\n",
       "      <th></th>\n",
       "      <th>id</th>\n",
       "      <th>review</th>\n",
       "      <th>num_words</th>\n",
       "      <th>clean review</th>\n",
       "    </tr>\n",
       "  </thead>\n",
       "  <tbody>\n",
       "    <tr>\n",
       "      <th>0</th>\n",
       "      <td>12311_10</td>\n",
       "      <td>Naturally in a film who's main themes are of m...</td>\n",
       "      <td>131</td>\n",
       "      <td>naturally film main theme mortality nostalgia ...</td>\n",
       "    </tr>\n",
       "    <tr>\n",
       "      <th>1</th>\n",
       "      <td>8348_2</td>\n",
       "      <td>This movie is a disaster within a disaster fil...</td>\n",
       "      <td>169</td>\n",
       "      <td>movie disaster within disaster film full great...</td>\n",
       "    </tr>\n",
       "    <tr>\n",
       "      <th>2</th>\n",
       "      <td>5828_4</td>\n",
       "      <td>All in all, this is a movie for kids. We saw i...</td>\n",
       "      <td>176</td>\n",
       "      <td>movie kid saw tonight child loved one point ki...</td>\n",
       "    </tr>\n",
       "    <tr>\n",
       "      <th>3</th>\n",
       "      <td>7186_2</td>\n",
       "      <td>Afraid of the Dark left me with the impression...</td>\n",
       "      <td>112</td>\n",
       "      <td>afraid dark left impression several different ...</td>\n",
       "    </tr>\n",
       "    <tr>\n",
       "      <th>4</th>\n",
       "      <td>12128_7</td>\n",
       "      <td>A very accurate depiction of small time mob li...</td>\n",
       "      <td>133</td>\n",
       "      <td>accurate depiction small time mob life filmed ...</td>\n",
       "    </tr>\n",
       "  </tbody>\n",
       "</table>\n",
       "</div>"
      ],
      "text/plain": [
       "         id                                             review  num_words  \\\n",
       "0  12311_10  Naturally in a film who's main themes are of m...        131   \n",
       "1    8348_2  This movie is a disaster within a disaster fil...        169   \n",
       "2    5828_4  All in all, this is a movie for kids. We saw i...        176   \n",
       "3    7186_2  Afraid of the Dark left me with the impression...        112   \n",
       "4   12128_7  A very accurate depiction of small time mob li...        133   \n",
       "\n",
       "                                        clean review  \n",
       "0  naturally film main theme mortality nostalgia ...  \n",
       "1  movie disaster within disaster film full great...  \n",
       "2  movie kid saw tonight child loved one point ki...  \n",
       "3  afraid dark left impression several different ...  \n",
       "4  accurate depiction small time mob life filmed ...  "
      ]
     },
     "execution_count": 30,
     "metadata": {},
     "output_type": "execute_result"
    }
   ],
   "source": [
    "test_df.head()"
   ]
  },
  {
   "cell_type": "code",
   "execution_count": 31,
   "id": "4552fbd0",
   "metadata": {
    "execution": {
     "iopub.execute_input": "2022-06-30T19:12:26.470294Z",
     "iopub.status.busy": "2022-06-30T19:12:26.469877Z",
     "iopub.status.idle": "2022-06-30T19:12:30.262246Z",
     "shell.execute_reply": "2022-06-30T19:12:30.260702Z"
    },
    "papermill": {
     "duration": 3.818722,
     "end_time": "2022-06-30T19:12:30.265328",
     "exception": false,
     "start_time": "2022-06-30T19:12:26.446606",
     "status": "completed"
    },
    "tags": []
   },
   "outputs": [],
   "source": [
    "test_clean_review_vect = vectorizer.transform(test_df[\"clean review\"])"
   ]
  },
  {
   "cell_type": "code",
   "execution_count": 32,
   "id": "bf9ca329",
   "metadata": {
    "execution": {
     "iopub.execute_input": "2022-06-30T19:12:30.311926Z",
     "iopub.status.busy": "2022-06-30T19:12:30.311186Z",
     "iopub.status.idle": "2022-06-30T19:12:30.327170Z",
     "shell.execute_reply": "2022-06-30T19:12:30.325224Z"
    },
    "papermill": {
     "duration": 0.043085,
     "end_time": "2022-06-30T19:12:30.330561",
     "exception": false,
     "start_time": "2022-06-30T19:12:30.287476",
     "status": "completed"
    },
    "tags": []
   },
   "outputs": [],
   "source": [
    "test_df[\"sentiment\"] = lr_model.predict(test_clean_review_vect)"
   ]
  },
  {
   "cell_type": "code",
   "execution_count": 33,
   "id": "431cc29f",
   "metadata": {},
   "outputs": [
    {
     "data": {
      "text/html": [
       "<div>\n",
       "<style scoped>\n",
       "    .dataframe tbody tr th:only-of-type {\n",
       "        vertical-align: middle;\n",
       "    }\n",
       "\n",
       "    .dataframe tbody tr th {\n",
       "        vertical-align: top;\n",
       "    }\n",
       "\n",
       "    .dataframe thead th {\n",
       "        text-align: right;\n",
       "    }\n",
       "</style>\n",
       "<table border=\"1\" class=\"dataframe\">\n",
       "  <thead>\n",
       "    <tr style=\"text-align: right;\">\n",
       "      <th></th>\n",
       "      <th>id</th>\n",
       "      <th>review</th>\n",
       "      <th>num_words</th>\n",
       "      <th>clean review</th>\n",
       "      <th>sentiment</th>\n",
       "    </tr>\n",
       "  </thead>\n",
       "  <tbody>\n",
       "    <tr>\n",
       "      <th>0</th>\n",
       "      <td>12311_10</td>\n",
       "      <td>Naturally in a film who's main themes are of m...</td>\n",
       "      <td>131</td>\n",
       "      <td>naturally film main theme mortality nostalgia ...</td>\n",
       "      <td>1</td>\n",
       "    </tr>\n",
       "    <tr>\n",
       "      <th>1</th>\n",
       "      <td>8348_2</td>\n",
       "      <td>This movie is a disaster within a disaster fil...</td>\n",
       "      <td>169</td>\n",
       "      <td>movie disaster within disaster film full great...</td>\n",
       "      <td>0</td>\n",
       "    </tr>\n",
       "    <tr>\n",
       "      <th>2</th>\n",
       "      <td>5828_4</td>\n",
       "      <td>All in all, this is a movie for kids. We saw i...</td>\n",
       "      <td>176</td>\n",
       "      <td>movie kid saw tonight child loved one point ki...</td>\n",
       "      <td>1</td>\n",
       "    </tr>\n",
       "    <tr>\n",
       "      <th>3</th>\n",
       "      <td>7186_2</td>\n",
       "      <td>Afraid of the Dark left me with the impression...</td>\n",
       "      <td>112</td>\n",
       "      <td>afraid dark left impression several different ...</td>\n",
       "      <td>1</td>\n",
       "    </tr>\n",
       "    <tr>\n",
       "      <th>4</th>\n",
       "      <td>12128_7</td>\n",
       "      <td>A very accurate depiction of small time mob li...</td>\n",
       "      <td>133</td>\n",
       "      <td>accurate depiction small time mob life filmed ...</td>\n",
       "      <td>1</td>\n",
       "    </tr>\n",
       "  </tbody>\n",
       "</table>\n",
       "</div>"
      ],
      "text/plain": [
       "         id                                             review  num_words  \\\n",
       "0  12311_10  Naturally in a film who's main themes are of m...        131   \n",
       "1    8348_2  This movie is a disaster within a disaster fil...        169   \n",
       "2    5828_4  All in all, this is a movie for kids. We saw i...        176   \n",
       "3    7186_2  Afraid of the Dark left me with the impression...        112   \n",
       "4   12128_7  A very accurate depiction of small time mob li...        133   \n",
       "\n",
       "                                        clean review  sentiment  \n",
       "0  naturally film main theme mortality nostalgia ...          1  \n",
       "1  movie disaster within disaster film full great...          0  \n",
       "2  movie kid saw tonight child loved one point ki...          1  \n",
       "3  afraid dark left impression several different ...          1  \n",
       "4  accurate depiction small time mob life filmed ...          1  "
      ]
     },
     "execution_count": 33,
     "metadata": {},
     "output_type": "execute_result"
    }
   ],
   "source": [
    "test_df.head()"
   ]
  },
  {
   "cell_type": "markdown",
   "id": "425d6e91",
   "metadata": {
    "papermill": {
     "duration": 0.023142,
     "end_time": "2022-06-30T19:12:30.659615",
     "exception": false,
     "start_time": "2022-06-30T19:12:30.636473",
     "status": "completed"
    },
    "tags": []
   },
   "source": [
    "## Saving the model"
   ]
  },
  {
   "cell_type": "markdown",
   "id": "ab5e35ff",
   "metadata": {},
   "source": [
    "We will use pickle library to store/save the model, so that we can use it later as well. This way we don't need to train the model again, we can just load the trained model and use it."
   ]
  },
  {
   "cell_type": "code",
   "execution_count": 34,
   "id": "e6523009",
   "metadata": {},
   "outputs": [],
   "source": [
    "with open(\"imdb_review_model.pkl\", \"wb\") as f:\n",
    "    pickle.dump(lr_model, f)"
   ]
  }
 ],
 "metadata": {
  "kernelspec": {
   "display_name": "Python 3 (ipykernel)",
   "language": "python",
   "name": "python3"
  },
  "language_info": {
   "codemirror_mode": {
    "name": "ipython",
    "version": 3
   },
   "file_extension": ".py",
   "mimetype": "text/x-python",
   "name": "python",
   "nbconvert_exporter": "python",
   "pygments_lexer": "ipython3",
   "version": "3.8.10"
  },
  "papermill": {
   "default_parameters": {},
   "duration": 364.00333,
   "end_time": "2022-06-30T19:12:31.708805",
   "environment_variables": {},
   "exception": null,
   "input_path": "__notebook__.ipynb",
   "output_path": "__notebook__.ipynb",
   "parameters": {},
   "start_time": "2022-06-30T19:06:27.705475",
   "version": "2.3.4"
  }
 },
 "nbformat": 4,
 "nbformat_minor": 5
}
